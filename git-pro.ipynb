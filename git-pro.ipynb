{
 "cells": [
  {
   "cell_type": "markdown",
   "metadata": {
    "toc": true
   },
   "source": [
    "<h1>Содержание<span class=\"tocSkip\"></span></h1>\n",
    "<div class=\"toc\"><ul class=\"toc-item\"><li><span><a href=\"#Подготовка-данных\" data-toc-modified-id=\"Подготовка-данных-1\"><span class=\"toc-item-num\">1&nbsp;&nbsp;</span>Подготовка данных</a></span></li><li><span><a href=\"#Исследование-задачи\" data-toc-modified-id=\"Исследование-задачи-2\"><span class=\"toc-item-num\">2&nbsp;&nbsp;</span>Исследование задачи</a></span><ul class=\"toc-item\"><li><span><a href=\"#Подготовка-признаков\" data-toc-modified-id=\"Подготовка-признаков-2.1\"><span class=\"toc-item-num\">2.1&nbsp;&nbsp;</span>Подготовка признаков</a></span></li><li><span><a href=\"#Масштабирование-признаков\" data-toc-modified-id=\"Масштабирование-признаков-2.2\"><span class=\"toc-item-num\">2.2&nbsp;&nbsp;</span>Масштабирование признаков</a></span></li><li><span><a href=\"#Обучение-моделей\" data-toc-modified-id=\"Обучение-моделей-2.3\"><span class=\"toc-item-num\">2.3&nbsp;&nbsp;</span>Обучение моделей</a></span><ul class=\"toc-item\"><li><span><a href=\"#Дерево-решений\" data-toc-modified-id=\"Дерево-решений-2.3.1\"><span class=\"toc-item-num\">2.3.1&nbsp;&nbsp;</span>Дерево решений</a></span></li><li><span><a href=\"#Случайный-лес\" data-toc-modified-id=\"Случайный-лес-2.3.2\"><span class=\"toc-item-num\">2.3.2&nbsp;&nbsp;</span>Случайный лес</a></span></li><li><span><a href=\"#Логистическая-регрессия\" data-toc-modified-id=\"Логистическая-регрессия-2.3.3\"><span class=\"toc-item-num\">2.3.3&nbsp;&nbsp;</span>Логистическая регрессия</a></span></li></ul></li></ul></li><li><span><a href=\"#Борьба-с-дисбалансом\" data-toc-modified-id=\"Борьба-с-дисбалансом-3\"><span class=\"toc-item-num\">3&nbsp;&nbsp;</span>Борьба с дисбалансом</a></span><ul class=\"toc-item\"><li><span><a href=\"#Upsampling\" data-toc-modified-id=\"Upsampling-3.1\"><span class=\"toc-item-num\">3.1&nbsp;&nbsp;</span>Upsampling</a></span></li><li><span><a href=\"#Downsampling\" data-toc-modified-id=\"Downsampling-3.2\"><span class=\"toc-item-num\">3.2&nbsp;&nbsp;</span>Downsampling</a></span></li><li><span><a href=\"#Threshold\" data-toc-modified-id=\"Threshold-3.3\"><span class=\"toc-item-num\">3.3&nbsp;&nbsp;</span>Threshold</a></span></li><li><span><a href=\"#Smote\" data-toc-modified-id=\"Smote-3.4\"><span class=\"toc-item-num\">3.4&nbsp;&nbsp;</span>Smote</a></span></li></ul></li><li><span><a href=\"#Тестирование-модели\" data-toc-modified-id=\"Тестирование-модели-4\"><span class=\"toc-item-num\">4&nbsp;&nbsp;</span>Тестирование модели</a></span></li><li><span><a href=\"#Общий-вывод\" data-toc-modified-id=\"Общий-вывод-5\"><span class=\"toc-item-num\">5&nbsp;&nbsp;</span>Общий вывод</a></span></li><li><span><a href=\"#Чек-лист-готовности-проекта\" data-toc-modified-id=\"Чек-лист-готовности-проекта-6\"><span class=\"toc-item-num\">6&nbsp;&nbsp;</span>Чек-лист готовности проекта</a></span></li></ul></div>"
   ]
  },
  {
   "cell_type": "markdown",
   "metadata": {},
   "source": [
    "# Отток клиентов"
   ]
  },
  {
   "cell_type": "markdown",
   "metadata": {},
   "source": [
    "Из «Бета-Банка» стали уходить клиенты. Каждый месяц. Немного, но заметно. Банковские маркетологи посчитали: сохранять текущих клиентов дешевле, чем привлекать новых.\n",
    "\n",
    "Нужно спрогнозировать, уйдёт клиент из банка в ближайшее время или нет. Вам предоставлены исторические данные о поведении клиентов и расторжении договоров с банком. \n",
    "\n",
    "Постройте модель с предельно большим значением *F1*-меры. Чтобы сдать проект успешно, нужно довести метрику до 0.59. Проверьте *F1*-меру на тестовой выборке самостоятельно.\n",
    "\n",
    "Дополнительно измеряйте *AUC-ROC*, сравнивайте её значение с *F1*-мерой.\n",
    "\n",
    "Источник данных: [https://www.kaggle.com/barelydedicated/bank-customer-churn-modeling](https://www.kaggle.com/barelydedicated/bank-customer-churn-modeling)"
   ]
  },
  {
   "cell_type": "markdown",
   "metadata": {},
   "source": [
    "## Подготовка данных"
   ]
  },
  {
   "cell_type": "markdown",
   "metadata": {},
   "source": [
    "Импортируем необходимые библиотеки, модели и метрики."
   ]
  },
  {
   "cell_type": "code",
   "execution_count": null,
   "metadata": {},
   "outputs": [],
   "source": [
    "pip install imblearn"
   ]
  },
  {
   "cell_type": "code",
   "execution_count": 1,
   "metadata": {},
   "outputs": [],
   "source": [
    "import pandas as pd\n",
    "import numpy as np\n",
    "import matplotlib.pyplot as plt\n",
    "import seaborn as sns\n",
    "\n",
    "from sklearn.tree import DecisionTreeClassifier\n",
    "from sklearn.linear_model import LogisticRegression\n",
    "from sklearn.ensemble import RandomForestClassifier\n",
    "from sklearn.metrics import f1_score, roc_auc_score, roc_curve, precision_score, recall_score\n",
    "from sklearn.metrics import accuracy_score\n",
    "from sklearn.preprocessing import StandardScaler\n",
    "from sklearn.model_selection import train_test_split\n",
    "from sklearn.model_selection import GridSearchCV\n",
    "from sklearn.model_selection import cross_val_score\n",
    "from sklearn.utils import shuffle\n",
    "from sklearn.dummy import DummyClassifier\n",
    "\n",
    "from imblearn.over_sampling import SMOTE\n",
    "import warnings\n",
    "warnings.filterwarnings(\"ignore\")"
   ]
  },
  {
   "cell_type": "markdown",
   "metadata": {},
   "source": [
    "Изучим общую информацию о датасете."
   ]
  },
  {
   "cell_type": "code",
   "execution_count": 2,
   "metadata": {},
   "outputs": [
    {
     "data": {
      "text/html": [
       "<div>\n",
       "<style scoped>\n",
       "    .dataframe tbody tr th:only-of-type {\n",
       "        vertical-align: middle;\n",
       "    }\n",
       "\n",
       "    .dataframe tbody tr th {\n",
       "        vertical-align: top;\n",
       "    }\n",
       "\n",
       "    .dataframe thead th {\n",
       "        text-align: right;\n",
       "    }\n",
       "</style>\n",
       "<table border=\"1\" class=\"dataframe\">\n",
       "  <thead>\n",
       "    <tr style=\"text-align: right;\">\n",
       "      <th></th>\n",
       "      <th>RowNumber</th>\n",
       "      <th>CustomerId</th>\n",
       "      <th>Surname</th>\n",
       "      <th>CreditScore</th>\n",
       "      <th>Geography</th>\n",
       "      <th>Gender</th>\n",
       "      <th>Age</th>\n",
       "      <th>Tenure</th>\n",
       "      <th>Balance</th>\n",
       "      <th>NumOfProducts</th>\n",
       "      <th>HasCrCard</th>\n",
       "      <th>IsActiveMember</th>\n",
       "      <th>EstimatedSalary</th>\n",
       "      <th>Exited</th>\n",
       "    </tr>\n",
       "  </thead>\n",
       "  <tbody>\n",
       "    <tr>\n",
       "      <th>0</th>\n",
       "      <td>1</td>\n",
       "      <td>15634602</td>\n",
       "      <td>Hargrave</td>\n",
       "      <td>619</td>\n",
       "      <td>France</td>\n",
       "      <td>Female</td>\n",
       "      <td>42</td>\n",
       "      <td>2.0</td>\n",
       "      <td>0.00</td>\n",
       "      <td>1</td>\n",
       "      <td>1</td>\n",
       "      <td>1</td>\n",
       "      <td>101348.88</td>\n",
       "      <td>1</td>\n",
       "    </tr>\n",
       "    <tr>\n",
       "      <th>1</th>\n",
       "      <td>2</td>\n",
       "      <td>15647311</td>\n",
       "      <td>Hill</td>\n",
       "      <td>608</td>\n",
       "      <td>Spain</td>\n",
       "      <td>Female</td>\n",
       "      <td>41</td>\n",
       "      <td>1.0</td>\n",
       "      <td>83807.86</td>\n",
       "      <td>1</td>\n",
       "      <td>0</td>\n",
       "      <td>1</td>\n",
       "      <td>112542.58</td>\n",
       "      <td>0</td>\n",
       "    </tr>\n",
       "    <tr>\n",
       "      <th>2</th>\n",
       "      <td>3</td>\n",
       "      <td>15619304</td>\n",
       "      <td>Onio</td>\n",
       "      <td>502</td>\n",
       "      <td>France</td>\n",
       "      <td>Female</td>\n",
       "      <td>42</td>\n",
       "      <td>8.0</td>\n",
       "      <td>159660.80</td>\n",
       "      <td>3</td>\n",
       "      <td>1</td>\n",
       "      <td>0</td>\n",
       "      <td>113931.57</td>\n",
       "      <td>1</td>\n",
       "    </tr>\n",
       "    <tr>\n",
       "      <th>3</th>\n",
       "      <td>4</td>\n",
       "      <td>15701354</td>\n",
       "      <td>Boni</td>\n",
       "      <td>699</td>\n",
       "      <td>France</td>\n",
       "      <td>Female</td>\n",
       "      <td>39</td>\n",
       "      <td>1.0</td>\n",
       "      <td>0.00</td>\n",
       "      <td>2</td>\n",
       "      <td>0</td>\n",
       "      <td>0</td>\n",
       "      <td>93826.63</td>\n",
       "      <td>0</td>\n",
       "    </tr>\n",
       "    <tr>\n",
       "      <th>4</th>\n",
       "      <td>5</td>\n",
       "      <td>15737888</td>\n",
       "      <td>Mitchell</td>\n",
       "      <td>850</td>\n",
       "      <td>Spain</td>\n",
       "      <td>Female</td>\n",
       "      <td>43</td>\n",
       "      <td>2.0</td>\n",
       "      <td>125510.82</td>\n",
       "      <td>1</td>\n",
       "      <td>1</td>\n",
       "      <td>1</td>\n",
       "      <td>79084.10</td>\n",
       "      <td>0</td>\n",
       "    </tr>\n",
       "  </tbody>\n",
       "</table>\n",
       "</div>"
      ],
      "text/plain": [
       "   RowNumber  CustomerId   Surname  CreditScore Geography  Gender  Age  \\\n",
       "0          1    15634602  Hargrave          619    France  Female   42   \n",
       "1          2    15647311      Hill          608     Spain  Female   41   \n",
       "2          3    15619304      Onio          502    France  Female   42   \n",
       "3          4    15701354      Boni          699    France  Female   39   \n",
       "4          5    15737888  Mitchell          850     Spain  Female   43   \n",
       "\n",
       "   Tenure    Balance  NumOfProducts  HasCrCard  IsActiveMember  \\\n",
       "0     2.0       0.00              1          1               1   \n",
       "1     1.0   83807.86              1          0               1   \n",
       "2     8.0  159660.80              3          1               0   \n",
       "3     1.0       0.00              2          0               0   \n",
       "4     2.0  125510.82              1          1               1   \n",
       "\n",
       "   EstimatedSalary  Exited  \n",
       "0        101348.88       1  \n",
       "1        112542.58       0  \n",
       "2        113931.57       1  \n",
       "3         93826.63       0  \n",
       "4         79084.10       0  "
      ]
     },
     "execution_count": 2,
     "metadata": {},
     "output_type": "execute_result"
    }
   ],
   "source": [
    "df = pd.read_csv('/users/roman/git-project/Churn.csv')\n",
    "df.head(5)"
   ]
  },
  {
   "cell_type": "code",
   "execution_count": 3,
   "metadata": {},
   "outputs": [
    {
     "data": {
      "text/plain": [
       "(10000, 14)"
      ]
     },
     "execution_count": 3,
     "metadata": {},
     "output_type": "execute_result"
    }
   ],
   "source": [
    "df.shape"
   ]
  },
  {
   "cell_type": "code",
   "execution_count": 4,
   "metadata": {},
   "outputs": [
    {
     "data": {
      "text/html": [
       "<div>\n",
       "<style scoped>\n",
       "    .dataframe tbody tr th:only-of-type {\n",
       "        vertical-align: middle;\n",
       "    }\n",
       "\n",
       "    .dataframe tbody tr th {\n",
       "        vertical-align: top;\n",
       "    }\n",
       "\n",
       "    .dataframe thead th {\n",
       "        text-align: right;\n",
       "    }\n",
       "</style>\n",
       "<table border=\"1\" class=\"dataframe\">\n",
       "  <thead>\n",
       "    <tr style=\"text-align: right;\">\n",
       "      <th></th>\n",
       "      <th>count</th>\n",
       "      <th>mean</th>\n",
       "      <th>std</th>\n",
       "      <th>min</th>\n",
       "      <th>25%</th>\n",
       "      <th>50%</th>\n",
       "      <th>75%</th>\n",
       "      <th>max</th>\n",
       "    </tr>\n",
       "  </thead>\n",
       "  <tbody>\n",
       "    <tr>\n",
       "      <th>RowNumber</th>\n",
       "      <td>10000.0</td>\n",
       "      <td>5.000500e+03</td>\n",
       "      <td>2886.895680</td>\n",
       "      <td>1.00</td>\n",
       "      <td>2500.75</td>\n",
       "      <td>5.000500e+03</td>\n",
       "      <td>7.500250e+03</td>\n",
       "      <td>10000.00</td>\n",
       "    </tr>\n",
       "    <tr>\n",
       "      <th>CustomerId</th>\n",
       "      <td>10000.0</td>\n",
       "      <td>1.569094e+07</td>\n",
       "      <td>71936.186123</td>\n",
       "      <td>15565701.00</td>\n",
       "      <td>15628528.25</td>\n",
       "      <td>1.569074e+07</td>\n",
       "      <td>1.575323e+07</td>\n",
       "      <td>15815690.00</td>\n",
       "    </tr>\n",
       "    <tr>\n",
       "      <th>CreditScore</th>\n",
       "      <td>10000.0</td>\n",
       "      <td>6.505288e+02</td>\n",
       "      <td>96.653299</td>\n",
       "      <td>350.00</td>\n",
       "      <td>584.00</td>\n",
       "      <td>6.520000e+02</td>\n",
       "      <td>7.180000e+02</td>\n",
       "      <td>850.00</td>\n",
       "    </tr>\n",
       "    <tr>\n",
       "      <th>Age</th>\n",
       "      <td>10000.0</td>\n",
       "      <td>3.892180e+01</td>\n",
       "      <td>10.487806</td>\n",
       "      <td>18.00</td>\n",
       "      <td>32.00</td>\n",
       "      <td>3.700000e+01</td>\n",
       "      <td>4.400000e+01</td>\n",
       "      <td>92.00</td>\n",
       "    </tr>\n",
       "    <tr>\n",
       "      <th>Tenure</th>\n",
       "      <td>9091.0</td>\n",
       "      <td>4.997690e+00</td>\n",
       "      <td>2.894723</td>\n",
       "      <td>0.00</td>\n",
       "      <td>2.00</td>\n",
       "      <td>5.000000e+00</td>\n",
       "      <td>7.000000e+00</td>\n",
       "      <td>10.00</td>\n",
       "    </tr>\n",
       "    <tr>\n",
       "      <th>Balance</th>\n",
       "      <td>10000.0</td>\n",
       "      <td>7.648589e+04</td>\n",
       "      <td>62397.405202</td>\n",
       "      <td>0.00</td>\n",
       "      <td>0.00</td>\n",
       "      <td>9.719854e+04</td>\n",
       "      <td>1.276442e+05</td>\n",
       "      <td>250898.09</td>\n",
       "    </tr>\n",
       "    <tr>\n",
       "      <th>NumOfProducts</th>\n",
       "      <td>10000.0</td>\n",
       "      <td>1.530200e+00</td>\n",
       "      <td>0.581654</td>\n",
       "      <td>1.00</td>\n",
       "      <td>1.00</td>\n",
       "      <td>1.000000e+00</td>\n",
       "      <td>2.000000e+00</td>\n",
       "      <td>4.00</td>\n",
       "    </tr>\n",
       "    <tr>\n",
       "      <th>HasCrCard</th>\n",
       "      <td>10000.0</td>\n",
       "      <td>7.055000e-01</td>\n",
       "      <td>0.455840</td>\n",
       "      <td>0.00</td>\n",
       "      <td>0.00</td>\n",
       "      <td>1.000000e+00</td>\n",
       "      <td>1.000000e+00</td>\n",
       "      <td>1.00</td>\n",
       "    </tr>\n",
       "    <tr>\n",
       "      <th>IsActiveMember</th>\n",
       "      <td>10000.0</td>\n",
       "      <td>5.151000e-01</td>\n",
       "      <td>0.499797</td>\n",
       "      <td>0.00</td>\n",
       "      <td>0.00</td>\n",
       "      <td>1.000000e+00</td>\n",
       "      <td>1.000000e+00</td>\n",
       "      <td>1.00</td>\n",
       "    </tr>\n",
       "    <tr>\n",
       "      <th>EstimatedSalary</th>\n",
       "      <td>10000.0</td>\n",
       "      <td>1.000902e+05</td>\n",
       "      <td>57510.492818</td>\n",
       "      <td>11.58</td>\n",
       "      <td>51002.11</td>\n",
       "      <td>1.001939e+05</td>\n",
       "      <td>1.493882e+05</td>\n",
       "      <td>199992.48</td>\n",
       "    </tr>\n",
       "    <tr>\n",
       "      <th>Exited</th>\n",
       "      <td>10000.0</td>\n",
       "      <td>2.037000e-01</td>\n",
       "      <td>0.402769</td>\n",
       "      <td>0.00</td>\n",
       "      <td>0.00</td>\n",
       "      <td>0.000000e+00</td>\n",
       "      <td>0.000000e+00</td>\n",
       "      <td>1.00</td>\n",
       "    </tr>\n",
       "  </tbody>\n",
       "</table>\n",
       "</div>"
      ],
      "text/plain": [
       "                   count          mean           std          min  \\\n",
       "RowNumber        10000.0  5.000500e+03   2886.895680         1.00   \n",
       "CustomerId       10000.0  1.569094e+07  71936.186123  15565701.00   \n",
       "CreditScore      10000.0  6.505288e+02     96.653299       350.00   \n",
       "Age              10000.0  3.892180e+01     10.487806        18.00   \n",
       "Tenure            9091.0  4.997690e+00      2.894723         0.00   \n",
       "Balance          10000.0  7.648589e+04  62397.405202         0.00   \n",
       "NumOfProducts    10000.0  1.530200e+00      0.581654         1.00   \n",
       "HasCrCard        10000.0  7.055000e-01      0.455840         0.00   \n",
       "IsActiveMember   10000.0  5.151000e-01      0.499797         0.00   \n",
       "EstimatedSalary  10000.0  1.000902e+05  57510.492818        11.58   \n",
       "Exited           10000.0  2.037000e-01      0.402769         0.00   \n",
       "\n",
       "                         25%           50%           75%          max  \n",
       "RowNumber            2500.75  5.000500e+03  7.500250e+03     10000.00  \n",
       "CustomerId       15628528.25  1.569074e+07  1.575323e+07  15815690.00  \n",
       "CreditScore           584.00  6.520000e+02  7.180000e+02       850.00  \n",
       "Age                    32.00  3.700000e+01  4.400000e+01        92.00  \n",
       "Tenure                  2.00  5.000000e+00  7.000000e+00        10.00  \n",
       "Balance                 0.00  9.719854e+04  1.276442e+05    250898.09  \n",
       "NumOfProducts           1.00  1.000000e+00  2.000000e+00         4.00  \n",
       "HasCrCard               0.00  1.000000e+00  1.000000e+00         1.00  \n",
       "IsActiveMember          0.00  1.000000e+00  1.000000e+00         1.00  \n",
       "EstimatedSalary     51002.11  1.001939e+05  1.493882e+05    199992.48  \n",
       "Exited                  0.00  0.000000e+00  0.000000e+00         1.00  "
      ]
     },
     "execution_count": 4,
     "metadata": {},
     "output_type": "execute_result"
    }
   ],
   "source": [
    "df.describe().T"
   ]
  },
  {
   "cell_type": "code",
   "execution_count": 5,
   "metadata": {
    "scrolled": true
   },
   "outputs": [
    {
     "name": "stdout",
     "output_type": "stream",
     "text": [
      "<class 'pandas.core.frame.DataFrame'>\n",
      "RangeIndex: 10000 entries, 0 to 9999\n",
      "Data columns (total 14 columns):\n",
      " #   Column           Non-Null Count  Dtype  \n",
      "---  ------           --------------  -----  \n",
      " 0   RowNumber        10000 non-null  int64  \n",
      " 1   CustomerId       10000 non-null  int64  \n",
      " 2   Surname          10000 non-null  object \n",
      " 3   CreditScore      10000 non-null  int64  \n",
      " 4   Geography        10000 non-null  object \n",
      " 5   Gender           10000 non-null  object \n",
      " 6   Age              10000 non-null  int64  \n",
      " 7   Tenure           9091 non-null   float64\n",
      " 8   Balance          10000 non-null  float64\n",
      " 9   NumOfProducts    10000 non-null  int64  \n",
      " 10  HasCrCard        10000 non-null  int64  \n",
      " 11  IsActiveMember   10000 non-null  int64  \n",
      " 12  EstimatedSalary  10000 non-null  float64\n",
      " 13  Exited           10000 non-null  int64  \n",
      "dtypes: float64(3), int64(8), object(3)\n",
      "memory usage: 1.1+ MB\n"
     ]
    }
   ],
   "source": [
    "df.info()"
   ]
  },
  {
   "cell_type": "markdown",
   "metadata": {},
   "source": [
    "В столбце 'Tenure' обнаружены пропуски. Пропуски могли возникнуть из-за технической ошибки, скорее всего у банка достаточно информации о том, сколько лет клиент обслуживается у них. Заполним пропуски медианным значением в зависимости от возраста клиента. Это не должно оказать негативное влияние на наше исследование, так как пропусков не много, а из вывода команды describe видно, что эта переменная распределена без заметных выбросов."
   ]
  },
  {
   "cell_type": "code",
   "execution_count": 6,
   "metadata": {},
   "outputs": [],
   "source": [
    "df['Tenure'] = df['Tenure'].fillna(df.groupby(['Age'])['Tenure'].transform('median'))\n",
    "df['Tenure'] = df['Tenure'].astype('int64')"
   ]
  },
  {
   "cell_type": "code",
   "execution_count": 7,
   "metadata": {},
   "outputs": [
    {
     "name": "stdout",
     "output_type": "stream",
     "text": [
      "<class 'pandas.core.frame.DataFrame'>\n",
      "RangeIndex: 10000 entries, 0 to 9999\n",
      "Data columns (total 14 columns):\n",
      " #   Column           Non-Null Count  Dtype  \n",
      "---  ------           --------------  -----  \n",
      " 0   RowNumber        10000 non-null  int64  \n",
      " 1   CustomerId       10000 non-null  int64  \n",
      " 2   Surname          10000 non-null  object \n",
      " 3   CreditScore      10000 non-null  int64  \n",
      " 4   Geography        10000 non-null  object \n",
      " 5   Gender           10000 non-null  object \n",
      " 6   Age              10000 non-null  int64  \n",
      " 7   Tenure           10000 non-null  int64  \n",
      " 8   Balance          10000 non-null  float64\n",
      " 9   NumOfProducts    10000 non-null  int64  \n",
      " 10  HasCrCard        10000 non-null  int64  \n",
      " 11  IsActiveMember   10000 non-null  int64  \n",
      " 12  EstimatedSalary  10000 non-null  float64\n",
      " 13  Exited           10000 non-null  int64  \n",
      "dtypes: float64(2), int64(9), object(3)\n",
      "memory usage: 1.1+ MB\n"
     ]
    }
   ],
   "source": [
    "df.info()"
   ]
  },
  {
   "cell_type": "code",
   "execution_count": 8,
   "metadata": {},
   "outputs": [
    {
     "data": {
      "text/html": [
       "<div>\n",
       "<style scoped>\n",
       "    .dataframe tbody tr th:only-of-type {\n",
       "        vertical-align: middle;\n",
       "    }\n",
       "\n",
       "    .dataframe tbody tr th {\n",
       "        vertical-align: top;\n",
       "    }\n",
       "\n",
       "    .dataframe thead th {\n",
       "        text-align: right;\n",
       "    }\n",
       "</style>\n",
       "<table border=\"1\" class=\"dataframe\">\n",
       "  <thead>\n",
       "    <tr style=\"text-align: right;\">\n",
       "      <th></th>\n",
       "      <th>0</th>\n",
       "    </tr>\n",
       "  </thead>\n",
       "  <tbody>\n",
       "    <tr>\n",
       "      <th>RowNumber</th>\n",
       "      <td>int64</td>\n",
       "    </tr>\n",
       "    <tr>\n",
       "      <th>CustomerId</th>\n",
       "      <td>int64</td>\n",
       "    </tr>\n",
       "    <tr>\n",
       "      <th>Surname</th>\n",
       "      <td>object</td>\n",
       "    </tr>\n",
       "    <tr>\n",
       "      <th>CreditScore</th>\n",
       "      <td>int64</td>\n",
       "    </tr>\n",
       "    <tr>\n",
       "      <th>Geography</th>\n",
       "      <td>object</td>\n",
       "    </tr>\n",
       "    <tr>\n",
       "      <th>Gender</th>\n",
       "      <td>object</td>\n",
       "    </tr>\n",
       "    <tr>\n",
       "      <th>Age</th>\n",
       "      <td>int64</td>\n",
       "    </tr>\n",
       "    <tr>\n",
       "      <th>Tenure</th>\n",
       "      <td>int64</td>\n",
       "    </tr>\n",
       "    <tr>\n",
       "      <th>Balance</th>\n",
       "      <td>float64</td>\n",
       "    </tr>\n",
       "    <tr>\n",
       "      <th>NumOfProducts</th>\n",
       "      <td>int64</td>\n",
       "    </tr>\n",
       "    <tr>\n",
       "      <th>HasCrCard</th>\n",
       "      <td>int64</td>\n",
       "    </tr>\n",
       "    <tr>\n",
       "      <th>IsActiveMember</th>\n",
       "      <td>int64</td>\n",
       "    </tr>\n",
       "    <tr>\n",
       "      <th>EstimatedSalary</th>\n",
       "      <td>float64</td>\n",
       "    </tr>\n",
       "    <tr>\n",
       "      <th>Exited</th>\n",
       "      <td>int64</td>\n",
       "    </tr>\n",
       "  </tbody>\n",
       "</table>\n",
       "</div>"
      ],
      "text/plain": [
       "                       0\n",
       "RowNumber          int64\n",
       "CustomerId         int64\n",
       "Surname           object\n",
       "CreditScore        int64\n",
       "Geography         object\n",
       "Gender            object\n",
       "Age                int64\n",
       "Tenure             int64\n",
       "Balance          float64\n",
       "NumOfProducts      int64\n",
       "HasCrCard          int64\n",
       "IsActiveMember     int64\n",
       "EstimatedSalary  float64\n",
       "Exited             int64"
      ]
     },
     "execution_count": 8,
     "metadata": {},
     "output_type": "execute_result"
    }
   ],
   "source": [
    "df.dtypes.to_frame()"
   ]
  },
  {
   "cell_type": "markdown",
   "metadata": {},
   "source": [
    "Типы значений в столбцах указаны верно, преобразование не требуется."
   ]
  },
  {
   "cell_type": "markdown",
   "metadata": {},
   "source": [
    "Проверим наличие дубликатов."
   ]
  },
  {
   "cell_type": "code",
   "execution_count": 9,
   "metadata": {},
   "outputs": [
    {
     "data": {
      "text/plain": [
       "0"
      ]
     },
     "execution_count": 9,
     "metadata": {},
     "output_type": "execute_result"
    }
   ],
   "source": [
    "df.duplicated().sum()"
   ]
  },
  {
   "cell_type": "markdown",
   "metadata": {},
   "source": [
    "Явных дубликатов не обнаружено."
   ]
  },
  {
   "cell_type": "code",
   "execution_count": 10,
   "metadata": {},
   "outputs": [
    {
     "data": {
      "text/plain": [
       "Index(['RowNumber', 'CustomerId', 'Surname', 'CreditScore', 'Geography',\n",
       "       'Gender', 'Age', 'Tenure', 'Balance', 'NumOfProducts', 'HasCrCard',\n",
       "       'IsActiveMember', 'EstimatedSalary', 'Exited'],\n",
       "      dtype='object')"
      ]
     },
     "execution_count": 10,
     "metadata": {},
     "output_type": "execute_result"
    }
   ],
   "source": [
    "df.columns"
   ]
  },
  {
   "cell_type": "markdown",
   "metadata": {},
   "source": [
    "Столбцы *'Surname', 'CreditScore', 'Geography','Gender', 'Age', 'Tenure', 'Balance', 'NumOfProducts', 'HasCrCard', 'IsActiveMember', 'EstimatedSalary', 'Exited'* могут содержать одинаковые значения, поэтому проверим на наличие дубликатов столбец с уникальными номерами клиентов - *'CustomerId'*."
   ]
  },
  {
   "cell_type": "code",
   "execution_count": 11,
   "metadata": {
    "scrolled": true
   },
   "outputs": [
    {
     "data": {
      "text/plain": [
       "0"
      ]
     },
     "execution_count": 11,
     "metadata": {},
     "output_type": "execute_result"
    }
   ],
   "source": [
    "df['CustomerId'].duplicated().sum()"
   ]
  },
  {
   "cell_type": "markdown",
   "metadata": {},
   "source": [
    "Дубликатов не обнаружено, можем продолжать работу с текущими данными."
   ]
  },
  {
   "cell_type": "markdown",
   "metadata": {},
   "source": [
    "Значения в столбцах *'RowNumber', 'CustomerId', 'Surname'* содержат в себе идентификационные данные о клиентах и не несут пользы для дальнейшего исследования. Удалим их."
   ]
  },
  {
   "cell_type": "code",
   "execution_count": 12,
   "metadata": {},
   "outputs": [],
   "source": [
    "data = df.drop(['RowNumber', 'CustomerId', 'Surname'], axis=1).copy()"
   ]
  },
  {
   "cell_type": "code",
   "execution_count": 13,
   "metadata": {
    "scrolled": false
   },
   "outputs": [
    {
     "data": {
      "text/html": [
       "<div>\n",
       "<style scoped>\n",
       "    .dataframe tbody tr th:only-of-type {\n",
       "        vertical-align: middle;\n",
       "    }\n",
       "\n",
       "    .dataframe tbody tr th {\n",
       "        vertical-align: top;\n",
       "    }\n",
       "\n",
       "    .dataframe thead th {\n",
       "        text-align: right;\n",
       "    }\n",
       "</style>\n",
       "<table border=\"1\" class=\"dataframe\">\n",
       "  <thead>\n",
       "    <tr style=\"text-align: right;\">\n",
       "      <th></th>\n",
       "      <th>CreditScore</th>\n",
       "      <th>Geography</th>\n",
       "      <th>Gender</th>\n",
       "      <th>Age</th>\n",
       "      <th>Tenure</th>\n",
       "      <th>Balance</th>\n",
       "      <th>NumOfProducts</th>\n",
       "      <th>HasCrCard</th>\n",
       "      <th>IsActiveMember</th>\n",
       "      <th>EstimatedSalary</th>\n",
       "      <th>Exited</th>\n",
       "    </tr>\n",
       "  </thead>\n",
       "  <tbody>\n",
       "    <tr>\n",
       "      <th>0</th>\n",
       "      <td>619</td>\n",
       "      <td>France</td>\n",
       "      <td>Female</td>\n",
       "      <td>42</td>\n",
       "      <td>2</td>\n",
       "      <td>0.00</td>\n",
       "      <td>1</td>\n",
       "      <td>1</td>\n",
       "      <td>1</td>\n",
       "      <td>101348.88</td>\n",
       "      <td>1</td>\n",
       "    </tr>\n",
       "    <tr>\n",
       "      <th>1</th>\n",
       "      <td>608</td>\n",
       "      <td>Spain</td>\n",
       "      <td>Female</td>\n",
       "      <td>41</td>\n",
       "      <td>1</td>\n",
       "      <td>83807.86</td>\n",
       "      <td>1</td>\n",
       "      <td>0</td>\n",
       "      <td>1</td>\n",
       "      <td>112542.58</td>\n",
       "      <td>0</td>\n",
       "    </tr>\n",
       "    <tr>\n",
       "      <th>2</th>\n",
       "      <td>502</td>\n",
       "      <td>France</td>\n",
       "      <td>Female</td>\n",
       "      <td>42</td>\n",
       "      <td>8</td>\n",
       "      <td>159660.80</td>\n",
       "      <td>3</td>\n",
       "      <td>1</td>\n",
       "      <td>0</td>\n",
       "      <td>113931.57</td>\n",
       "      <td>1</td>\n",
       "    </tr>\n",
       "    <tr>\n",
       "      <th>3</th>\n",
       "      <td>699</td>\n",
       "      <td>France</td>\n",
       "      <td>Female</td>\n",
       "      <td>39</td>\n",
       "      <td>1</td>\n",
       "      <td>0.00</td>\n",
       "      <td>2</td>\n",
       "      <td>0</td>\n",
       "      <td>0</td>\n",
       "      <td>93826.63</td>\n",
       "      <td>0</td>\n",
       "    </tr>\n",
       "    <tr>\n",
       "      <th>4</th>\n",
       "      <td>850</td>\n",
       "      <td>Spain</td>\n",
       "      <td>Female</td>\n",
       "      <td>43</td>\n",
       "      <td>2</td>\n",
       "      <td>125510.82</td>\n",
       "      <td>1</td>\n",
       "      <td>1</td>\n",
       "      <td>1</td>\n",
       "      <td>79084.10</td>\n",
       "      <td>0</td>\n",
       "    </tr>\n",
       "  </tbody>\n",
       "</table>\n",
       "</div>"
      ],
      "text/plain": [
       "   CreditScore Geography  Gender  Age  Tenure    Balance  NumOfProducts  \\\n",
       "0          619    France  Female   42       2       0.00              1   \n",
       "1          608     Spain  Female   41       1   83807.86              1   \n",
       "2          502    France  Female   42       8  159660.80              3   \n",
       "3          699    France  Female   39       1       0.00              2   \n",
       "4          850     Spain  Female   43       2  125510.82              1   \n",
       "\n",
       "   HasCrCard  IsActiveMember  EstimatedSalary  Exited  \n",
       "0          1               1        101348.88       1  \n",
       "1          0               1        112542.58       0  \n",
       "2          1               0        113931.57       1  \n",
       "3          0               0         93826.63       0  \n",
       "4          1               1         79084.10       0  "
      ]
     },
     "execution_count": 13,
     "metadata": {},
     "output_type": "execute_result"
    }
   ],
   "source": [
    "data.head()"
   ]
  },
  {
   "cell_type": "code",
   "execution_count": 14,
   "metadata": {},
   "outputs": [
    {
     "data": {
      "image/png": "[encoded data removed]",
      "text/plain": [
       "<Figure size 1080x864 with 9 Axes>"
      ]
     },
     "metadata": {
      "needs_background": "light"
     },
     "output_type": "display_data"
    }
   ],
   "source": [
    "data.hist(bins=40, figsize=(15,12), linewidth=2)\n",
    "plt.show()"
   ]
  },
  {
   "cell_type": "markdown",
   "metadata": {},
   "source": [
    "Для построения и обучения моделей проверим мультиколлинеарность исследуемых признаков.\n",
    "\n",
    "Целевой признак - *'Exited'*."
   ]
  },
  {
   "cell_type": "code",
   "execution_count": 15,
   "metadata": {
    "scrolled": true
   },
   "outputs": [
    {
     "data": {
      "image/png": "[encoded data removed]",
      "text/plain": [
       "<Figure size 576x576 with 2 Axes>"
      ]
     },
     "metadata": {
      "needs_background": "light"
     },
     "output_type": "display_data"
    }
   ],
   "source": [
    "plt.subplots(figsize=(8, 8))\n",
    "sns.heatmap(data.corr(), annot=True, fmt=\".1f\", square=True, cmap='Blues')\\\n",
    ".set(title='Матрица корреляций')\n",
    "plt.show()"
   ]
  },
  {
   "cell_type": "markdown",
   "metadata": {},
   "source": [
    "В подготовленном датасете **data**:\n",
    "- пропуски устранены;\n",
    "- типы данных указаны верно;\n",
    "- дубликаты не обнаржены;\n",
    "- неинформативные значения (столбцы) удалены;\n",
    "- мультиколлинеарность не обнаружена."
   ]
  },
  {
   "cell_type": "markdown",
   "metadata": {},
   "source": [
    "## Исследование задачи"
   ]
  },
  {
   "cell_type": "markdown",
   "metadata": {},
   "source": [
    "### Подготовка признаков"
   ]
  },
  {
   "cell_type": "markdown",
   "metadata": {},
   "source": [
    "Прогноз ухода клиента из банка - задача классификации.\n",
    "\n",
    "Нам необходимо использовать модель Дерева решений, Случайного леса и Логистической регрессии.\n",
    "\n",
    "С помощью OHE приведем значения столбцов *'Geography', 'Gender'* к цифровому виду."
   ]
  },
  {
   "cell_type": "code",
   "execution_count": 16,
   "metadata": {},
   "outputs": [],
   "source": [
    "data = pd.get_dummies(data, drop_first=True)"
   ]
  },
  {
   "cell_type": "markdown",
   "metadata": {},
   "source": [
    "Для корректного обучения моделей разобьем имеющиеся данные на три выборки в следующих пропорциях:\n",
    "- 60% тренировочная выборка;\n",
    "- 20% валидационная выборка;\n",
    "- 20% тестовая выборка."
   ]
  },
  {
   "cell_type": "code",
   "execution_count": 17,
   "metadata": {},
   "outputs": [
    {
     "name": "stdout",
     "output_type": "stream",
     "text": [
      "(6000, 11) (2000, 11) (2000, 11) (6000,) (2000,) (2000,)"
     ]
    }
   ],
   "source": [
    "x = data.drop(['Exited'], axis=1).copy()\n",
    "y = data['Exited'].copy()\n",
    "\n",
    "x_train, x_val, y_train, y_val = \\\n",
    "train_test_split(x, y, test_size=0.4, random_state=42)\n",
    "\n",
    "x_val, x_test, y_val, y_test = \\\n",
    "train_test_split(x_val, y_val, test_size=0.5, random_state=42)\n",
    "\n",
    "print(x_train.shape,\n",
    "      x_val.shape,\n",
    "      x_test.shape,\n",
    "      y_train.shape,\n",
    "      y_val.shape,\n",
    "      y_test.shape, end='')"
   ]
  },
  {
   "cell_type": "markdown",
   "metadata": {},
   "source": [
    "### Масштабирование признаков"
   ]
  },
  {
   "cell_type": "code",
   "execution_count": 18,
   "metadata": {},
   "outputs": [],
   "source": [
    "numeric = ['CreditScore', 'Age', 'Tenure', 'Balance', 'NumOfProducts', 'EstimatedSalary']\n",
    "scaler = StandardScaler()\n",
    "x_train[numeric] = scaler.fit_transform(x_train[numeric])\n",
    "x_val[numeric] = scaler.transform(x_val[numeric])\n",
    "x_test[numeric] = scaler.transform(x_test[numeric])"
   ]
  },
  {
   "cell_type": "markdown",
   "metadata": {},
   "source": [
    "Мы получили мастабированные признаки для трех подготовленных выборок."
   ]
  },
  {
   "cell_type": "markdown",
   "metadata": {},
   "source": [
    "Проверим, как представлены классы целевого признака в датасете."
   ]
  },
  {
   "cell_type": "code",
   "execution_count": 19,
   "metadata": {},
   "outputs": [
    {
     "data": {
      "text/html": [
       "<div>\n",
       "<style scoped>\n",
       "    .dataframe tbody tr th:only-of-type {\n",
       "        vertical-align: middle;\n",
       "    }\n",
       "\n",
       "    .dataframe tbody tr th {\n",
       "        vertical-align: top;\n",
       "    }\n",
       "\n",
       "    .dataframe thead th {\n",
       "        text-align: right;\n",
       "    }\n",
       "</style>\n",
       "<table border=\"1\" class=\"dataframe\">\n",
       "  <thead>\n",
       "    <tr style=\"text-align: right;\">\n",
       "      <th></th>\n",
       "      <th>Exited</th>\n",
       "    </tr>\n",
       "  </thead>\n",
       "  <tbody>\n",
       "    <tr>\n",
       "      <th>0</th>\n",
       "      <td>0.7963</td>\n",
       "    </tr>\n",
       "    <tr>\n",
       "      <th>1</th>\n",
       "      <td>0.2037</td>\n",
       "    </tr>\n",
       "  </tbody>\n",
       "</table>\n",
       "</div>"
      ],
      "text/plain": [
       "   Exited\n",
       "0  0.7963\n",
       "1  0.2037"
      ]
     },
     "execution_count": 19,
     "metadata": {},
     "output_type": "execute_result"
    }
   ],
   "source": [
    "data['Exited'].value_counts(normalize=1).to_frame()"
   ]
  },
  {
   "cell_type": "code",
   "execution_count": 20,
   "metadata": {},
   "outputs": [
    {
     "data": {
      "image/png": "[encoded data removed]",
      "text/plain": [
       "<Figure size 432x288 with 1 Axes>"
      ]
     },
     "metadata": {
      "needs_background": "light"
     },
     "output_type": "display_data"
    }
   ],
   "source": [
    "sns.countplot(data=df, x='Exited')\\\n",
    ".set(xticklabels = (['клиент не ушёл', 'клиент ушёл']))\n",
    "plt.title('Количество записей в зависимости от факта ухода клиента')\n",
    "plt.xlabel('Факт ухода клиента')\n",
    "plt.ylabel('Количество записей')\n",
    "plt.show()"
   ]
  },
  {
   "cell_type": "markdown",
   "metadata": {},
   "source": [
    "Целевой признак представлен неравномерно: количество оставшихся клиентов почти в 4 (четыре) раза превышает количество ушедших клиентов.\n",
    "\n",
    "Столь существенный дисбаланс классов может негативно отразиться на качестве работы моделей.\n",
    "\n",
    "Построим модели без учета проблемы дисбаланса классов и проверим полученные метрики."
   ]
  },
  {
   "cell_type": "markdown",
   "metadata": {},
   "source": [
    "### Обучение моделей"
   ]
  },
  {
   "cell_type": "markdown",
   "metadata": {},
   "source": [
    "#### Дерево решений"
   ]
  },
  {
   "cell_type": "code",
   "execution_count": 46,
   "metadata": {},
   "outputs": [],
   "source": [
    "dt_model = DecisionTreeClassifier(random_state=42)\n",
    "dt_params = { 'max_depth': range (1,25,2),\n",
    "              'min_samples_leaf': range (1,8),\n",
    "              'min_samples_split': range (2,10,2) }"
   ]
  },
  {
   "cell_type": "markdown",
   "metadata": {},
   "source": [
    "Подберем оптимальные параметры модели."
   ]
  },
  {
   "cell_type": "code",
   "execution_count": 47,
   "metadata": {},
   "outputs": [
    {
     "data": {
      "text/plain": [
       "{'max_depth': 7, 'min_samples_leaf': 1, 'min_samples_split': 2}"
      ]
     },
     "execution_count": 47,
     "metadata": {},
     "output_type": "execute_result"
    }
   ],
   "source": [
    "dt_grid = GridSearchCV(dt_model, dt_params, cv=5)\n",
    "dt_grid.fit(x_train, y_train)\n",
    "dt_grid.best_params_"
   ]
  },
  {
   "cell_type": "code",
   "execution_count": 50,
   "metadata": {},
   "outputs": [
    {
     "name": "stdout",
     "output_type": "stream",
     "text": [
      "Значение метрики F1 для решающего дерева составляет: 0.514\n",
      "Значение метрики AUC для решающего дерева составляет: 0.689\n"
     ]
    }
   ],
   "source": [
    "dt_model = DecisionTreeClassifier(max_depth=9,\n",
    "                                  min_samples_leaf=1,\n",
    "                                  min_samples_split=2,\n",
    "                                  random_state=42)\n",
    "dt_model.fit(x_train, y_train)\n",
    "dt_predict_val = dt_model.predict(x_val)\n",
    "dt_f1 = f1_score(y_val, dt_predict_val)\n",
    "\n",
    "dt_proba_val = dt_model.predict_proba(x_val)\n",
    "dt_proba_one_val = dt_proba_val[:, 1]\n",
    "dt_auc = roc_auc_score(y_val, dt_predict_val)\n",
    "\n",
    "print('Значение метрики F1 для решающего дерева составляет:', f'{dt_f1:.3f}')\n",
    "print('Значение метрики AUC для решающего дерева составляет:', f'{dt_auc:.3f}')"
   ]
  },
  {
   "cell_type": "markdown",
   "metadata": {},
   "source": [
    "#### Случайный лес"
   ]
  },
  {
   "cell_type": "code",
   "execution_count": 51,
   "metadata": {},
   "outputs": [],
   "source": [
    "rf_model = RandomForestClassifier(random_state=42)\n",
    "rf_params = { 'n_estimators': range(20,161,20),\n",
    "              'max_depth': range(1,16,2) }"
   ]
  },
  {
   "cell_type": "markdown",
   "metadata": {},
   "source": [
    "Подберем оптимальные параметры модели."
   ]
  },
  {
   "cell_type": "code",
   "execution_count": 52,
   "metadata": {},
   "outputs": [
    {
     "data": {
      "text/plain": [
       "{'max_depth': 11, 'n_estimators': 160}"
      ]
     },
     "execution_count": 52,
     "metadata": {},
     "output_type": "execute_result"
    }
   ],
   "source": [
    "rf_grid = GridSearchCV(rf_model, rf_params, cv=5)\n",
    "rf_grid.fit(x_train, y_train)\n",
    "rf_grid.best_params_"
   ]
  },
  {
   "cell_type": "code",
   "execution_count": 26,
   "metadata": {},
   "outputs": [
    {
     "name": "stdout",
     "output_type": "stream",
     "text": [
      "Значение метрики F1 для случайного леса составляет: 0.541\n",
      "Значение метрики AUC для случайного леса составляет: 0.694\n"
     ]
    }
   ],
   "source": [
    "rf_model = RandomForestClassifier(n_estimators=120,\n",
    "                                 max_depth=11,\n",
    "                                 random_state=42)\n",
    "rf_model.fit(x_train, y_train)\n",
    "rf_predict_val = rf_model.predict(x_val)\n",
    "rf_f1 = f1_score(y_val, rf_predict_val)\n",
    "\n",
    "rf_proba_val = rf_model.predict_proba(x_val)\n",
    "rf_proba_one_val = rf_proba_val[:, 1]\n",
    "rf_auc = roc_auc_score(y_val, rf_predict_val)\n",
    "\n",
    "print('Значение метрики F1 для случайного леса составляет:', f'{rf_f1:.3f}')\n",
    "print('Значение метрики AUC для случайного леса составляет:', f'{rf_auc:.3f}')"
   ]
  },
  {
   "cell_type": "markdown",
   "metadata": {},
   "source": [
    "#### Логистическая регрессия"
   ]
  },
  {
   "cell_type": "code",
   "execution_count": 27,
   "metadata": {},
   "outputs": [
    {
     "name": "stdout",
     "output_type": "stream",
     "text": [
      "Значение метрики F1 для логистической регрессии составляет: 0.296\n",
      "Значение метрики AUC для логистической регрессии составляет: 0.582\n"
     ]
    }
   ],
   "source": [
    "lr_model = LogisticRegression(solver='liblinear', random_state=42)\n",
    "lr_model.fit(x_train, y_train)\n",
    "lr_predict_val = lr_model.predict(x_val)\n",
    "lr_f1 = f1_score(y_val, lr_predict_val)\n",
    "\n",
    "lr_proba_val = lr_model.predict_proba(x_val)\n",
    "lr_proba_one_val = lr_proba_val[:, 1]\n",
    "lr_auc = roc_auc_score(y_val, lr_predict_val)\n",
    "\n",
    "print('Значение метрики F1 для логистической регрессии составляет:', f'{lr_f1:.3f}')\n",
    "print('Значение метрики AUC для логистической регрессии составляет:', f'{lr_auc:.3f}')"
   ]
  },
  {
   "cell_type": "markdown",
   "metadata": {},
   "source": [
    "Низкие значения метрик всех моделей могут быть следствием проблемы дисбаланса классов."
   ]
  },
  {
   "cell_type": "markdown",
   "metadata": {},
   "source": [
    "Проверим качество работы моделей с учетом гиперпараметра *class_weight='balanced'*."
   ]
  },
  {
   "cell_type": "code",
   "execution_count": 28,
   "metadata": {},
   "outputs": [
    {
     "name": "stdout",
     "output_type": "stream",
     "text": [
      "Значение метрики F1 для решающего дерева составляет: 0.552\n",
      "Значение метрики AUC для решающего дерева составляет: 0.743\n",
      "\n",
      "Значение метрики F1 для случайного леса составляет: 0.577\n",
      "Значение метрики AUC для случайного леса составляет: 0.735\n",
      "\n",
      "Значение метрики F1 для логистической регрессии составляет: 0.461\n",
      "Значение метрики AUC для логистической регрессии составляет: 0.692\n",
      "\n"
     ]
    }
   ],
   "source": [
    "dt_model = DecisionTreeClassifier(max_depth=7,\n",
    "                                  min_samples_leaf=1,\n",
    "                                  min_samples_split=2,\n",
    "                                  class_weight='balanced',\n",
    "                                  random_state=42)\n",
    "dt_model.fit(x_train, y_train)\n",
    "dt_predict_val = dt_model.predict(x_val)\n",
    "dt_f1 = f1_score(y_val, dt_predict_val)\n",
    "dt_proba_val = dt_model.predict_proba(x_val)\n",
    "dt_proba_one_val = dt_proba_val[:, 1]\n",
    "dt_auc = roc_auc_score(y_val, dt_predict_val)\n",
    "\n",
    "print('Значение метрики F1 для решающего дерева составляет:', f'{dt_f1:.3f}')\n",
    "print('Значение метрики AUC для решающего дерева составляет:', f'{dt_auc:.3f}')\n",
    "print()\n",
    "\n",
    "rf_model = RandomForestClassifier(n_estimators=120,\n",
    "                                  max_depth=11,\n",
    "                                  class_weight='balanced',\n",
    "                                  random_state=42)\n",
    "rf_model.fit(x_train, y_train)\n",
    "rf_predict_val = rf_model.predict(x_val)\n",
    "rf_f1 = f1_score(y_val, rf_predict_val)\n",
    "rf_proba_val = rf_model.predict_proba(x_val)\n",
    "rf_proba_one_val = rf_proba_val[:, 1]\n",
    "rf_auc = roc_auc_score(y_val, rf_predict_val)\n",
    "\n",
    "print('Значение метрики F1 для случайного леса составляет:', f'{rf_f1:.3f}')\n",
    "print('Значение метрики AUC для случайного леса составляет:', f'{rf_auc:.3f}')\n",
    "print()\n",
    "\n",
    "lr_model = LogisticRegression(solver='liblinear',\n",
    "                              class_weight='balanced',\n",
    "                              random_state=42)\n",
    "lr_model.fit(x_train, y_train)\n",
    "lr_predict_val = lr_model.predict(x_val)\n",
    "lr_f1 = f1_score(y_val, lr_predict_val)\n",
    "lr_proba_val = lr_model.predict_proba(x_val)\n",
    "lr_proba_one_val = lr_proba_val[:, 1]\n",
    "lr_auc = roc_auc_score(y_val, lr_predict_val)\n",
    "\n",
    "print('Значение метрики F1 для логистической регрессии составляет:', f'{lr_f1:.3f}')\n",
    "print('Значение метрики AUC для логистической регрессии составляет:', f'{lr_auc:.3f}')\n",
    "print()"
   ]
  },
  {
   "cell_type": "markdown",
   "metadata": {},
   "source": [
    "Качество всех трех моделей улучшилось, что еще раз подтверждает нашу гипотезу о наличии проблемы дисбаланса классов."
   ]
  },
  {
   "cell_type": "markdown",
   "metadata": {},
   "source": [
    "Для удобста дальнейшего анализа создадим функцию *get_scores*, автоматизирующую получение метрик для моделей."
   ]
  },
  {
   "cell_type": "code",
   "execution_count": 29,
   "metadata": {},
   "outputs": [],
   "source": [
    "def get_scores(x_trn, y_trn):\n",
    "    #DecisionTree\n",
    "    dt_model = DecisionTreeClassifier(max_depth=7,\n",
    "                                  min_samples_leaf=1,\n",
    "                                  min_samples_split=2,\n",
    "                                  class_weight='balanced',\n",
    "                                  random_state=42)\n",
    "    dt_model.fit(x_trn, y_trn)\n",
    "    dt_f1 = cross_val_score(dt_model, \n",
    "                            x_trn, y_trn,\n",
    "                            n_jobs=-1, \n",
    "                            scoring='f1')\n",
    "    dt_auc = cross_val_score(lr_model, \n",
    "                             x_trn, y_trn,\n",
    "                             n_jobs=-1, \n",
    "                             scoring='roc_auc')\n",
    "    print('Дерево решений')\n",
    "    print('Метрика F1:', f'{dt_f1.mean():.3f}')\n",
    "    print('Метрика AUC:', f'{dt_auc.mean():.3f}')\n",
    "    print()\n",
    "    \n",
    "    #RandomForest\n",
    "    rf = RandomForestClassifier(n_estimators=125,\n",
    "                                max_depth=11,\n",
    "                                class_weight='balanced',\n",
    "                                random_state=42,\n",
    "                                n_jobs=-1)    \n",
    "    rf_model.fit(x_trn, y_trn)\n",
    "    rf_f1 = cross_val_score(rf_model, \n",
    "                            x_trn, y_trn,\n",
    "                            n_jobs=-1, \n",
    "                            scoring='f1')\n",
    "    rf_auc = cross_val_score(rf_model, \n",
    "                             x_trn, y_trn,\n",
    "                             n_jobs=-1, \n",
    "                             scoring='roc_auc')\n",
    "    print('Случайный лес')\n",
    "    print('Метрика F1:', f'{rf_f1.mean():.3f}')\n",
    "    print('Метрика AUC:', f'{rf_auc.mean():.3f}')\n",
    "    print()\n",
    "    \n",
    "    #LogisticRegression\n",
    "    lr = LogisticRegression(solver='liblinear',\n",
    "                            class_weight='balanced',\n",
    "                            random_state=42,\n",
    "                            n_jobs=-1)\n",
    "    lr_model.fit(x_trn, y_trn)\n",
    "    lr_f1 = cross_val_score(lr_model, \n",
    "                            x_trn, y_trn,\n",
    "                            n_jobs=-1, \n",
    "                            scoring='f1')\n",
    "    lr_auc = cross_val_score(lr_model, \n",
    "                             x_trn, y_trn,\n",
    "                             n_jobs=-1, \n",
    "                             scoring='roc_auc')\n",
    "    \n",
    "    print('Логистическая регрессия')\n",
    "    print('Метрика F1:', f'{lr_f1.mean():.3f}')\n",
    "    print('Метрика AUC:', f'{lr_auc.mean():.3f}')\n",
    "    print()"
   ]
  },
  {
   "cell_type": "code",
   "execution_count": 30,
   "metadata": {},
   "outputs": [
    {
     "name": "stdout",
     "output_type": "stream",
     "text": [
      "Дерево решений\n",
      "Метрика F1: 0.552\n",
      "Метрика AUC: 0.768\n",
      "\n",
      "Случайный лес\n",
      "Метрика F1: 0.613\n",
      "Метрика AUC: 0.859\n",
      "\n",
      "Логистическая регрессия\n",
      "Метрика F1: 0.497\n",
      "Метрика AUC: 0.768\n",
      "\n"
     ]
    }
   ],
   "source": [
    "get_scores(x_train, y_train)"
   ]
  },
  {
   "cell_type": "markdown",
   "metadata": {},
   "source": [
    "Мы наблюдаем изменение метрик каждой модели при использовании гиперпараметра *class_weight = 'balanced'* и кросс-валидации.\n",
    "\n",
    "Необходимо решить проблему дисбаланса классов."
   ]
  },
  {
   "cell_type": "markdown",
   "metadata": {},
   "source": [
    "## Борьба с дисбалансом"
   ]
  },
  {
   "cell_type": "markdown",
   "metadata": {},
   "source": [
    "Ранее мы выявили проблему существенного дисбаланса классов. Решим ее следующими методами:\n",
    "\n",
    "- Upsampling\n",
    "- Downsampling\n",
    "- Threshold\n",
    "- Smote"
   ]
  },
  {
   "cell_type": "markdown",
   "metadata": {},
   "source": [
    "### Upsampling"
   ]
  },
  {
   "cell_type": "markdown",
   "metadata": {},
   "source": [
    "Увеличим количество признака \"клиент ушел\" до размера признака \"клиент не ушел\". Как мы выяснили ранее, количество оставшихся клиентов почти в 4 (четыре) раза превышает количество ушедших клиентов."
   ]
  },
  {
   "cell_type": "code",
   "execution_count": 31,
   "metadata": {},
   "outputs": [],
   "source": [
    "def upsample(x, y, repeat):\n",
    "    x_train_zeros = x_train[y_train == 0]\n",
    "    x_train_ones = x_train[y_train == 1]\n",
    "    y_train_zeros = y_train[y_train == 0]\n",
    "    y_train_ones = y_train[y_train == 1]\n",
    "\n",
    "    x_upsampled = pd.concat([x_train_zeros] + [x_train_ones] * repeat)\n",
    "    y_upsampled = pd.concat([y_train_zeros] + [y_train_ones] * repeat)\n",
    "    \n",
    "    x_upsampled, y_upsampled = shuffle(x_upsampled,\n",
    "                                       y_upsampled,\n",
    "                                       random_state=42)\n",
    "    \n",
    "    return x_upsampled, y_upsampled"
   ]
  },
  {
   "cell_type": "code",
   "execution_count": 32,
   "metadata": {},
   "outputs": [
    {
     "name": "stdout",
     "output_type": "stream",
     "text": [
      "Количество оставшихся клиентов: 4773\n",
      "Количество ушедших клиентов: 4908\n"
     ]
    }
   ],
   "source": [
    "x_upsampled, y_upsampled = upsample(x_train, y_train, 4)\n",
    "\n",
    "print('Количество оставшихся клиентов:', y_upsampled[y_upsampled == 0].size)\n",
    "print('Количество ушедших клиентов:', y_upsampled[y_upsampled == 1].size)"
   ]
  },
  {
   "cell_type": "code",
   "execution_count": 33,
   "metadata": {},
   "outputs": [
    {
     "name": "stdout",
     "output_type": "stream",
     "text": [
      "Дерево решений\n",
      "Метрика F1: 0.789\n",
      "Метрика AUC: 0.770\n",
      "\n",
      "Случайный лес\n",
      "Метрика F1: 0.900\n",
      "Метрика AUC: 0.963\n",
      "\n",
      "Логистическая регрессия\n",
      "Метрика F1: 0.707\n",
      "Метрика AUC: 0.770\n",
      "\n"
     ]
    }
   ],
   "source": [
    "get_scores(x_upsampled, y_upsampled)"
   ]
  },
  {
   "cell_type": "markdown",
   "metadata": {},
   "source": [
    "Модели на кросс-валидации показывают очень высокие метрики. Это связано с самой методикой расширения: мы многократно скопировали данные клиентов, которые ушли из банка. На этапе кросс-валидации копии этих данных попадают и в учебную, и в валидационную выборки - итоговые метрики получаются завышенными."
   ]
  },
  {
   "cell_type": "markdown",
   "metadata": {},
   "source": [
    "### Downsampling"
   ]
  },
  {
   "cell_type": "markdown",
   "metadata": {},
   "source": [
    "Уменьшим количество признака \"клиент не ушел\" до размере признака \"клиент ушел\"."
   ]
  },
  {
   "cell_type": "code",
   "execution_count": 34,
   "metadata": {},
   "outputs": [],
   "source": [
    "def downsample(x, y, repeat):\n",
    "    x_train_zeros = x_train[y_train == 0]\n",
    "    x_train_ones = x_train[y_train == 1]\n",
    "    y_train_zeros = y_train[y_train == 0]\n",
    "    y_train_ones = y_train[y_train == 1]\n",
    "\n",
    "    x_downsampled = pd.concat([x_train_zeros.sample(n=y_train_ones.size), x_train_ones])\n",
    "    y_downsampled = pd.concat([y_train_zeros.sample(n=y_train_ones.size), y_train_ones])\n",
    "    \n",
    "    x_downsampled, y_downsampled = shuffle(x_downsampled,\n",
    "                                       y_downsampled,\n",
    "                                       random_state=42)\n",
    "    \n",
    "    return x_downsampled, y_downsampled"
   ]
  },
  {
   "cell_type": "code",
   "execution_count": 35,
   "metadata": {},
   "outputs": [
    {
     "name": "stdout",
     "output_type": "stream",
     "text": [
      "Количество оставшихся клиентов: 1227\n",
      "Количество ушедших клиентов: 1227\n"
     ]
    }
   ],
   "source": [
    "x_downsampled, y_downsampled = downsample(x_train, y_train, 4)\n",
    "\n",
    "print('Количество оставшихся клиентов:', y_downsampled[y_downsampled == 0].size)\n",
    "print('Количество ушедших клиентов:', y_downsampled[y_downsampled == 1].size)"
   ]
  },
  {
   "cell_type": "code",
   "execution_count": 36,
   "metadata": {},
   "outputs": [
    {
     "name": "stdout",
     "output_type": "stream",
     "text": [
      "Дерево решений\n",
      "Метрика F1: 0.750\n",
      "Метрика AUC: 0.765\n",
      "\n",
      "Случайный лес\n",
      "Метрика F1: 0.773\n",
      "Метрика AUC: 0.855\n",
      "\n",
      "Логистическая регрессия\n",
      "Метрика F1: 0.703\n",
      "Метрика AUC: 0.765\n",
      "\n"
     ]
    }
   ],
   "source": [
    "get_scores(x_downsampled, y_downsampled)"
   ]
  },
  {
   "cell_type": "markdown",
   "metadata": {},
   "source": [
    "В сравнении с методом Upsampling мы видим снижение метрик."
   ]
  },
  {
   "cell_type": "markdown",
   "metadata": {},
   "source": [
    "### Threshold"
   ]
  },
  {
   "cell_type": "markdown",
   "metadata": {},
   "source": [
    "Изменим значение порога вероятности классов."
   ]
  },
  {
   "cell_type": "code",
   "execution_count": 37,
   "metadata": {},
   "outputs": [
    {
     "name": "stdout",
     "output_type": "stream",
     "text": [
      "Логистическая регрессия\n",
      "Threshold = 0.550 | F1 = 0.466\n",
      "\n",
      "Дерево решений\n",
      "Threshold = 0.600 | F1 = 0.556\n",
      "\n",
      "Случайный лес\n",
      "Threshold = 0.000 | F1 = 0.425\n",
      "\n"
     ]
    }
   ],
   "source": [
    "best_lr_threshold = 0\n",
    "best_lr_f1 = 0\n",
    "lr_model = LogisticRegression(solver='liblinear',\n",
    "                              class_weight='balanced',\n",
    "                              random_state=42)\n",
    "lr_model.fit(x_train, y_train)\n",
    "proba_lr_valid = lr_model.predict_proba(x_val)\n",
    "proba_lr_one_val = proba_lr_valid[:,1]\n",
    "\n",
    "for threshold in np.arange(0, 0.95, 0.05):\n",
    "    predicted_lr_valid = proba_lr_one_val > threshold\n",
    "    lr_f1 = f1_score(y_val, predicted_lr_valid)\n",
    "    if lr_f1 > best_lr_f1:\n",
    "        best_lr_f1 = lr_f1\n",
    "        best_lr_threshold = threshold\n",
    "print('Логистическая регрессия')    \n",
    "print('Threshold = {:.3f} | F1 = {:.3f}'.format(best_lr_threshold, best_lr_f1))\n",
    "print()\n",
    "\n",
    "best_dt_threshold = 0\n",
    "best_dt_f1 = 0\n",
    "dt_model = DecisionTreeClassifier(max_depth=7,\n",
    "                                  min_samples_leaf=1,\n",
    "                                  min_samples_split=2,\n",
    "                                  class_weight='balanced',\n",
    "                                  random_state=42)\n",
    "dt_model.fit(x_train, y_train)\n",
    "proba_dt_valid = dt_model.predict_proba(x_val)\n",
    "proba_dt_one_val = proba_dt_valid[:,1]\n",
    "\n",
    "for threshold in np.arange(0, 0.95, 0.05):\n",
    "    predicted_dt_valid = proba_dt_one_val > threshold\n",
    "    dt_f1 = f1_score(y_val, predicted_dt_valid)\n",
    "    if dt_f1 > best_dt_f1:\n",
    "        best_dt_f1 = dt_f1\n",
    "        best_dt_threshold = threshold\n",
    "print('Дерево решений')\n",
    "print('Threshold = {:.3f} | F1 = {:.3f}'.format(best_dt_threshold, best_dt_f1))\n",
    "print()\n",
    "\n",
    "best_rf_threshold = 0\n",
    "best_rf_f1 = 0\n",
    "rf_model = RandomForestClassifier(n_estimators=125,\n",
    "                                  max_depth=11,\n",
    "                                  class_weight='balanced',\n",
    "                                  random_state=42)\n",
    "rf_model.fit(x_train, y_train)\n",
    "proba_rf_valid = rf_model.predict_proba(x_val)\n",
    "proba_rf_one_val = proba_rf_valid[:,1]\n",
    "\n",
    "for threshold in np.arange(0, 0.95, 0.05):\n",
    "    predicted_rf_valid = proba_rf_one_val > threshold\n",
    "    rf_f1 = f1_score(y_val, predicted_dt_valid)\n",
    "    if rf_f1 > best_rf_f1:\n",
    "        best_rf_f1 = rf_f1\n",
    "        best_rf_threshold = threshold\n",
    "print('Случайный лес')\n",
    "print('Threshold = {:.3f} | F1 = {:.3f}'.format(best_rf_threshold, best_rf_f1))\n",
    "print()"
   ]
  },
  {
   "cell_type": "markdown",
   "metadata": {},
   "source": [
    "Мы видим ухудшение метрик по каждой модели."
   ]
  },
  {
   "cell_type": "markdown",
   "metadata": {},
   "source": [
    "### Smote"
   ]
  },
  {
   "cell_type": "code",
   "execution_count": 38,
   "metadata": {},
   "outputs": [],
   "source": [
    "sm = SMOTE(random_state=42)"
   ]
  },
  {
   "cell_type": "code",
   "execution_count": 39,
   "metadata": {},
   "outputs": [],
   "source": [
    "x_sm, y_sm = sm.fit_resample(x_train, y_train)"
   ]
  },
  {
   "cell_type": "code",
   "execution_count": 40,
   "metadata": {},
   "outputs": [
    {
     "name": "stdout",
     "output_type": "stream",
     "text": [
      "Дерево решений\n",
      "Метрика F1: 0.791\n",
      "Метрика AUC: 0.799\n",
      "\n",
      "Случайный лес\n",
      "Метрика F1: 0.864\n",
      "Метрика AUC: 0.940\n",
      "\n",
      "Логистическая регрессия\n",
      "Метрика F1: 0.725\n",
      "Метрика AUC: 0.799\n",
      "\n"
     ]
    }
   ],
   "source": [
    "get_scores(x_sm, y_sm)"
   ]
  },
  {
   "cell_type": "markdown",
   "metadata": {},
   "source": [
    "Использование метода Smote позволило нам добиться высоких значений метрик. \n",
    "\n",
    "На каждом этапе борьбы с дисбалансом классов метрики модели Случайный лес оказывались самыми высокими.\n",
    "\n",
    "Принимая во внимание недостатки метода Upsampling, для дальнейшего тестирования модели будем использовать данные, полученные методом Smote."
   ]
  },
  {
   "cell_type": "markdown",
   "metadata": {},
   "source": [
    "Для финального тестирования модели на тестовой выборке подберем оптимальные параметры."
   ]
  },
  {
   "cell_type": "code",
   "execution_count": 41,
   "metadata": {},
   "outputs": [],
   "source": [
    "rf_test_model = RandomForestClassifier(random_state=42)\n",
    "rf_test_params = { 'n_estimators': range(20,121,20),\n",
    "              'max_depth': range(1,16,2) }"
   ]
  },
  {
   "cell_type": "code",
   "execution_count": 42,
   "metadata": {},
   "outputs": [
    {
     "data": {
      "text/plain": [
       "{'max_depth': 15, 'n_estimators': 100}"
      ]
     },
     "execution_count": 42,
     "metadata": {},
     "output_type": "execute_result"
    }
   ],
   "source": [
    "rf_test_grid = GridSearchCV(rf_test_model, rf_test_params, cv=5)\n",
    "rf_test_grid.fit(x_sm, y_sm)\n",
    "rf_test_grid.best_params_"
   ]
  },
  {
   "cell_type": "markdown",
   "metadata": {},
   "source": [
    "## Тестирование модели"
   ]
  },
  {
   "cell_type": "markdown",
   "metadata": {},
   "source": [
    "Проверим работу модели на тестовой выборке с учетом оптимальных гиперпараметров."
   ]
  },
  {
   "cell_type": "code",
   "execution_count": 43,
   "metadata": {
    "scrolled": true
   },
   "outputs": [
    {
     "name": "stdout",
     "output_type": "stream",
     "text": [
      "Случайный лес\n",
      "F1: 0.61\n",
      "Recall: 0.63\n",
      "Precision: 0.59\n",
      "AUC: 0.85\n"
     ]
    }
   ],
   "source": [
    "rf_test_model = RandomForestClassifier(n_estimators=100,\n",
    "                                 max_depth=15,\n",
    "                                 random_state=42)\n",
    "rf_test_model.fit(x_sm, y_sm)\n",
    "rf_predict_test = rf_test_model.predict(x_test)\n",
    "rf_f1 = f1_score(y_test, rf_predict_test)\n",
    "rf_recall = recall_score(y_test, rf_predict_test)\n",
    "rf_precision = precision_score(y_test, rf_predict_test)\n",
    "\n",
    "rf_test_proba_val = rf_test_model.predict_proba(x_test)\n",
    "rf_test_proba_one_val = rf_test_proba_val[:, 1]\n",
    "rf_auc = roc_auc_score(y_test, rf_test_proba_one_val)\n",
    "\n",
    "print('Случайный лес')\n",
    "print('F1:', f'{rf_f1:.2f}')\n",
    "print('Recall:', f'{rf_recall:.2f}')\n",
    "print('Precision:', f'{rf_precision:.2f}')\n",
    "print('AUC:', f'{rf_auc:.2f}')"
   ]
  },
  {
   "cell_type": "markdown",
   "metadata": {},
   "source": [
    "Используя модель Случайный лес, обученную с применением метода Smote, нам удалось достичь значения метрики **F1 = 0.61**, что превышает целевой показатель 0.59."
   ]
  },
  {
   "cell_type": "code",
   "execution_count": 44,
   "metadata": {},
   "outputs": [
    {
     "data": {
      "text/html": [
       "<div>\n",
       "<style scoped>\n",
       "    .dataframe tbody tr th:only-of-type {\n",
       "        vertical-align: middle;\n",
       "    }\n",
       "\n",
       "    .dataframe tbody tr th {\n",
       "        vertical-align: top;\n",
       "    }\n",
       "\n",
       "    .dataframe thead th {\n",
       "        text-align: right;\n",
       "    }\n",
       "</style>\n",
       "<table border=\"1\" class=\"dataframe\">\n",
       "  <thead>\n",
       "    <tr style=\"text-align: right;\">\n",
       "      <th></th>\n",
       "      <th>feature_importance</th>\n",
       "    </tr>\n",
       "  </thead>\n",
       "  <tbody>\n",
       "    <tr>\n",
       "      <th>Age</th>\n",
       "      <td>0.269065</td>\n",
       "    </tr>\n",
       "    <tr>\n",
       "      <th>NumOfProducts</th>\n",
       "      <td>0.141658</td>\n",
       "    </tr>\n",
       "    <tr>\n",
       "      <th>Balance</th>\n",
       "      <td>0.130150</td>\n",
       "    </tr>\n",
       "    <tr>\n",
       "      <th>EstimatedSalary</th>\n",
       "      <td>0.108081</td>\n",
       "    </tr>\n",
       "    <tr>\n",
       "      <th>CreditScore</th>\n",
       "      <td>0.099421</td>\n",
       "    </tr>\n",
       "  </tbody>\n",
       "</table>\n",
       "</div>"
      ],
      "text/plain": [
       "                 feature_importance\n",
       "Age                        0.269065\n",
       "NumOfProducts              0.141658\n",
       "Balance                    0.130150\n",
       "EstimatedSalary            0.108081\n",
       "CreditScore                0.099421"
      ]
     },
     "execution_count": 44,
     "metadata": {},
     "output_type": "execute_result"
    }
   ],
   "source": [
    "pd.Series(data=rf_test_model.feature_importances_,\n",
    "          index=x_sm.columns,\n",
    "          name='feature_importance').sort_values(ascending=False).head().to_frame()"
   ]
  },
  {
   "cell_type": "markdown",
   "metadata": {},
   "source": [
    "Наиболее важными признаками для используемой модели оказались:\n",
    "- возраст\n",
    "- количество используемых продуктов\n",
    "- баланс"
   ]
  },
  {
   "cell_type": "markdown",
   "metadata": {},
   "source": [
    "Убедимся, что наша модель действительно позволяет получить ценные прогнозы. Для этого сравним метрики модели на основе случайного леса с метриками модели, которая всегда предсказывает наиболее часто встречающийся класс (0, клиент не ушел)."
   ]
  },
  {
   "cell_type": "code",
   "execution_count": 45,
   "metadata": {},
   "outputs": [
    {
     "name": "stdout",
     "output_type": "stream",
     "text": [
      "Dummy F1: 0.00\n",
      "Dummy Recall: 0.00\n",
      "Dummy Precision: 0.00\n",
      "Dummy AUC: 0.50\n"
     ]
    }
   ],
   "source": [
    "#from sklearn.dummy import DummyClassifier\n",
    "\n",
    "dummy = DummyClassifier(strategy='prior', random_state=42)\n",
    "dummy.fit(x_sm, y_sm)\n",
    "dummy_pred = dummy.predict(x_test)\n",
    "dummy_f1 = f1_score(y_test, dummy_pred)\n",
    "dummy_recall = recall_score(y_test, dummy_pred)\n",
    "dummy_precision = precision_score(y_test, dummy_pred)\n",
    "dummy_proba_val = dummy.predict_proba(x_test)\n",
    "dummy_proba_one_val = dummy_proba_val[:, 1]\n",
    "dummy_auc = roc_auc_score(y_test, dummy_proba_one_val)\n",
    "\n",
    "print('Dummy F1:', f'{dummy_f1:.2f}')\n",
    "print('Dummy Recall:', f'{dummy_recall:.2f}')\n",
    "print('Dummy Precision:', f'{dummy_precision:.2f}')\n",
    "print('Dummy AUC:', f'{dummy_auc:.2f}')"
   ]
  },
  {
   "cell_type": "markdown",
   "metadata": {},
   "source": [
    "Все метрики нашей модели превосходят метрики случайного выбора величины.\n",
    "\n",
    "Значит, обученная нами модель работает адекватно и позволяет спрогнозировать возможное поведение клиентов."
   ]
  },
  {
   "cell_type": "markdown",
   "metadata": {},
   "source": [
    "## Общий вывод"
   ]
  },
  {
   "cell_type": "markdown",
   "metadata": {},
   "source": [
    "**Задача:** прогноз оттока клиентов банка на основе имеющихся данных.\n",
    "\n",
    "В рамках исследовательского анализа данных был выялен ряд несущественных проблем, которые были успешно решены.\n",
    "\n",
    "Затем были созданы три модели, которые последовательно обучались с различными наборами данных, созданными на основе исходной таблицы. Оценка эффективности моделей производилась по метрикам F1 и ROC AUC.\n",
    "\n",
    "Наилучшего значения метрики удаётся достичь для отмасштабированного и сбалансированного набора данных. Итоговая метрика F1 наилучшей модели на тестовых данных равна **0,61**.\n",
    "\n",
    "Адекватность прогноза модели была показана путём сравнения с классификатором случайного выбора величины признака.\n",
    "\n",
    "Полученная модель может быть использована как при разработке маркетинговых стратегий, изучении клиентской базы, так и для целенаправленой работы с клиентами, которые могут уйти из банка."
   ]
  }
 ],
 "metadata": {
  "ExecuteTimeLog": [
   {
    "duration": 1709,
    "start_time": "2022-11-13T11:02:06.488Z"
   },
   {
    "duration": 97,
    "start_time": "2022-11-13T11:02:34.971Z"
   },
   {
    "duration": 4,
    "start_time": "2022-11-13T11:02:45.582Z"
   },
   {
    "duration": 15,
    "start_time": "2022-11-13T11:02:52.938Z"
   },
   {
    "duration": 45,
    "start_time": "2022-11-15T14:31:27.848Z"
   },
   {
    "duration": 1467,
    "start_time": "2022-11-15T14:31:34.656Z"
   },
   {
    "duration": 84,
    "start_time": "2022-11-15T14:31:37.558Z"
   },
   {
    "duration": 4,
    "start_time": "2022-11-15T14:31:42.027Z"
   },
   {
    "duration": 16,
    "start_time": "2022-11-15T14:31:44.054Z"
   },
   {
    "duration": 5,
    "start_time": "2022-11-15T14:31:47.526Z"
   },
   {
    "duration": 3,
    "start_time": "2022-11-15T14:34:13.419Z"
   },
   {
    "duration": 11,
    "start_time": "2022-11-15T14:34:23.503Z"
   },
   {
    "duration": 1110,
    "start_time": "2022-11-15T14:46:35.611Z"
   },
   {
    "duration": 154,
    "start_time": "2022-11-15T14:47:09.153Z"
   },
   {
    "duration": 1623,
    "start_time": "2022-11-15T14:47:18.024Z"
   },
   {
    "duration": 984,
    "start_time": "2022-11-15T14:47:27.296Z"
   },
   {
    "duration": 1070,
    "start_time": "2022-11-15T14:47:36.035Z"
   },
   {
    "duration": 1560,
    "start_time": "2022-11-15T14:47:45.238Z"
   },
   {
    "duration": 2006,
    "start_time": "2022-11-15T14:48:46.888Z"
   },
   {
    "duration": 1193,
    "start_time": "2022-11-15T14:51:07.043Z"
   },
   {
    "duration": 2018,
    "start_time": "2022-11-15T14:51:26.589Z"
   },
   {
    "duration": 2163,
    "start_time": "2022-11-15T14:51:48.885Z"
   },
   {
    "duration": 13,
    "start_time": "2022-11-15T14:54:19.332Z"
   },
   {
    "duration": 14,
    "start_time": "2022-11-15T14:54:35.703Z"
   },
   {
    "duration": 5,
    "start_time": "2022-11-15T14:55:01.013Z"
   },
   {
    "duration": 13,
    "start_time": "2022-11-15T14:56:34.033Z"
   },
   {
    "duration": 11,
    "start_time": "2022-11-15T14:56:43.099Z"
   },
   {
    "duration": 14,
    "start_time": "2022-11-15T14:56:57.324Z"
   },
   {
    "duration": 5,
    "start_time": "2022-11-15T14:58:28.320Z"
   },
   {
    "duration": 4,
    "start_time": "2022-11-15T15:01:41.014Z"
   },
   {
    "duration": 11,
    "start_time": "2022-11-15T15:05:48.896Z"
   },
   {
    "duration": 3,
    "start_time": "2022-11-15T15:06:59.144Z"
   },
   {
    "duration": 1439,
    "start_time": "2022-11-15T15:07:13.739Z"
   },
   {
    "duration": 46,
    "start_time": "2022-11-15T15:07:15.180Z"
   },
   {
    "duration": 4,
    "start_time": "2022-11-15T15:07:15.228Z"
   },
   {
    "duration": 22,
    "start_time": "2022-11-15T15:07:15.233Z"
   },
   {
    "duration": 4,
    "start_time": "2022-11-15T15:07:15.259Z"
   },
   {
    "duration": 37,
    "start_time": "2022-11-15T15:07:15.265Z"
   },
   {
    "duration": 16,
    "start_time": "2022-11-15T15:07:15.304Z"
   },
   {
    "duration": 2047,
    "start_time": "2022-11-15T15:07:15.321Z"
   },
   {
    "duration": 12,
    "start_time": "2022-11-15T15:07:17.370Z"
   },
   {
    "duration": 17,
    "start_time": "2022-11-15T15:07:17.383Z"
   },
   {
    "duration": 12,
    "start_time": "2022-11-15T15:07:17.401Z"
   },
   {
    "duration": 2038,
    "start_time": "2022-11-15T15:07:50.089Z"
   },
   {
    "duration": 20,
    "start_time": "2022-11-15T15:08:18.696Z"
   },
   {
    "duration": 429,
    "start_time": "2022-11-15T15:08:45.846Z"
   },
   {
    "duration": 401,
    "start_time": "2022-11-15T15:09:00.025Z"
   },
   {
    "duration": 44,
    "start_time": "2022-11-16T17:27:56.180Z"
   },
   {
    "duration": 1617,
    "start_time": "2022-11-16T17:28:05.774Z"
   },
   {
    "duration": 211,
    "start_time": "2022-11-16T17:28:07.393Z"
   },
   {
    "duration": 4,
    "start_time": "2022-11-16T17:28:07.606Z"
   },
   {
    "duration": 20,
    "start_time": "2022-11-16T17:28:07.613Z"
   },
   {
    "duration": 18,
    "start_time": "2022-11-16T17:28:07.634Z"
   },
   {
    "duration": 15,
    "start_time": "2022-11-16T17:28:07.655Z"
   },
   {
    "duration": 7,
    "start_time": "2022-11-16T17:28:07.672Z"
   },
   {
    "duration": 19,
    "start_time": "2022-11-16T17:28:07.680Z"
   },
   {
    "duration": 4,
    "start_time": "2022-11-16T17:28:07.701Z"
   },
   {
    "duration": 7,
    "start_time": "2022-11-16T17:28:07.707Z"
   },
   {
    "duration": 2195,
    "start_time": "2022-11-16T17:28:07.717Z"
   },
   {
    "duration": 1128,
    "start_time": "2022-11-16T17:28:09.913Z"
   },
   {
    "duration": 253,
    "start_time": "2022-11-16T17:28:38.996Z"
   },
   {
    "duration": 404,
    "start_time": "2022-11-16T17:28:51.408Z"
   },
   {
    "duration": 56,
    "start_time": "2022-11-16T17:32:41.208Z"
   },
   {
    "duration": 5,
    "start_time": "2022-11-16T17:32:45.384Z"
   },
   {
    "duration": 12,
    "start_time": "2022-11-16T17:32:49.777Z"
   },
   {
    "duration": 4,
    "start_time": "2022-11-16T17:32:58.106Z"
   },
   {
    "duration": 11,
    "start_time": "2022-11-16T17:33:01.781Z"
   },
   {
    "duration": 14,
    "start_time": "2022-11-16T17:33:16.316Z"
   },
   {
    "duration": 10,
    "start_time": "2022-11-16T17:33:22.033Z"
   },
   {
    "duration": 5,
    "start_time": "2022-11-16T17:33:26.236Z"
   },
   {
    "duration": 5,
    "start_time": "2022-11-16T17:33:31.808Z"
   },
   {
    "duration": 4,
    "start_time": "2022-11-16T17:34:46.993Z"
   },
   {
    "duration": 11,
    "start_time": "2022-11-16T17:34:54.597Z"
   },
   {
    "duration": 375,
    "start_time": "2022-11-16T17:36:52.442Z"
   },
   {
    "duration": 1753,
    "start_time": "2022-11-16T17:37:02.500Z"
   },
   {
    "duration": 1751,
    "start_time": "2022-11-16T17:37:58.041Z"
   },
   {
    "duration": 35172,
    "start_time": "2022-11-16T17:40:00.344Z"
   },
   {
    "duration": 4,
    "start_time": "2022-11-16T17:45:59.078Z"
   },
   {
    "duration": 1327,
    "start_time": "2022-11-16T17:46:07.034Z"
   },
   {
    "duration": 51,
    "start_time": "2022-11-16T17:46:08.363Z"
   },
   {
    "duration": 4,
    "start_time": "2022-11-16T17:46:08.415Z"
   },
   {
    "duration": 36,
    "start_time": "2022-11-16T17:46:08.421Z"
   },
   {
    "duration": 3,
    "start_time": "2022-11-16T17:46:08.460Z"
   },
   {
    "duration": 21,
    "start_time": "2022-11-16T17:46:08.464Z"
   },
   {
    "duration": 8,
    "start_time": "2022-11-16T17:46:08.486Z"
   },
   {
    "duration": 14,
    "start_time": "2022-11-16T17:46:08.496Z"
   },
   {
    "duration": 4,
    "start_time": "2022-11-16T17:46:08.511Z"
   },
   {
    "duration": 18,
    "start_time": "2022-11-16T17:46:08.516Z"
   },
   {
    "duration": 8,
    "start_time": "2022-11-16T17:46:08.536Z"
   },
   {
    "duration": 14,
    "start_time": "2022-11-16T17:46:08.545Z"
   },
   {
    "duration": 1427,
    "start_time": "2022-11-16T17:46:08.561Z"
   },
   {
    "duration": 373,
    "start_time": "2022-11-16T17:46:09.991Z"
   },
   {
    "duration": 9,
    "start_time": "2022-11-16T17:57:15.875Z"
   },
   {
    "duration": 9,
    "start_time": "2022-11-16T18:02:11.721Z"
   },
   {
    "duration": 4,
    "start_time": "2022-11-16T18:02:27.826Z"
   },
   {
    "duration": 108,
    "start_time": "2022-11-16T18:03:23.275Z"
   },
   {
    "duration": 9,
    "start_time": "2022-11-16T18:03:41.742Z"
   },
   {
    "duration": 4,
    "start_time": "2022-11-16T18:03:44.173Z"
   },
   {
    "duration": 5,
    "start_time": "2022-11-16T18:04:09.122Z"
   },
   {
    "duration": 4,
    "start_time": "2022-11-16T18:04:21.658Z"
   },
   {
    "duration": 4,
    "start_time": "2022-11-16T18:05:10.618Z"
   },
   {
    "duration": 4,
    "start_time": "2022-11-16T18:05:22.787Z"
   },
   {
    "duration": 3,
    "start_time": "2022-11-16T18:05:29.048Z"
   },
   {
    "duration": 4,
    "start_time": "2022-11-16T18:05:34.116Z"
   },
   {
    "duration": 1703,
    "start_time": "2022-11-17T06:35:42.849Z"
   },
   {
    "duration": 7423,
    "start_time": "2022-11-17T06:36:05.226Z"
   },
   {
    "duration": 1979,
    "start_time": "2022-11-17T06:36:21.275Z"
   },
   {
    "duration": 1226,
    "start_time": "2022-11-17T06:36:23.256Z"
   },
   {
    "duration": 90,
    "start_time": "2022-11-17T06:36:24.484Z"
   },
   {
    "duration": 4,
    "start_time": "2022-11-17T06:36:24.576Z"
   },
   {
    "duration": 39,
    "start_time": "2022-11-17T06:36:24.581Z"
   },
   {
    "duration": 25,
    "start_time": "2022-11-17T06:36:24.621Z"
   },
   {
    "duration": 35,
    "start_time": "2022-11-17T06:36:24.647Z"
   },
   {
    "duration": 20,
    "start_time": "2022-11-17T06:36:24.684Z"
   },
   {
    "duration": 42,
    "start_time": "2022-11-17T06:36:24.705Z"
   },
   {
    "duration": 11,
    "start_time": "2022-11-17T06:36:24.750Z"
   },
   {
    "duration": 20,
    "start_time": "2022-11-17T06:36:24.762Z"
   },
   {
    "duration": 26,
    "start_time": "2022-11-17T06:36:24.784Z"
   },
   {
    "duration": 34,
    "start_time": "2022-11-17T06:36:24.811Z"
   },
   {
    "duration": 1461,
    "start_time": "2022-11-17T06:36:24.846Z"
   },
   {
    "duration": 365,
    "start_time": "2022-11-17T06:36:26.309Z"
   },
   {
    "duration": 10,
    "start_time": "2022-11-17T06:36:26.675Z"
   },
   {
    "duration": 17,
    "start_time": "2022-11-17T06:36:26.686Z"
   },
   {
    "duration": 38,
    "start_time": "2022-11-17T06:38:10.814Z"
   },
   {
    "duration": 23,
    "start_time": "2022-11-17T06:45:50.857Z"
   },
   {
    "duration": 9,
    "start_time": "2022-11-17T06:46:37.446Z"
   },
   {
    "duration": 4,
    "start_time": "2022-11-17T06:46:40.850Z"
   },
   {
    "duration": 93,
    "start_time": "2022-11-17T06:46:52.514Z"
   },
   {
    "duration": 109,
    "start_time": "2022-11-17T06:47:20.459Z"
   },
   {
    "duration": 4,
    "start_time": "2022-11-17T06:47:47.642Z"
   },
   {
    "duration": 102,
    "start_time": "2022-11-17T06:47:55.598Z"
   },
   {
    "duration": 4,
    "start_time": "2022-11-17T06:48:14.238Z"
   },
   {
    "duration": 5,
    "start_time": "2022-11-17T06:48:24.686Z"
   },
   {
    "duration": 12,
    "start_time": "2022-11-17T06:54:21.840Z"
   },
   {
    "duration": 5,
    "start_time": "2022-11-17T06:55:04.149Z"
   },
   {
    "duration": 42,
    "start_time": "2022-11-17T06:55:08.691Z"
   },
   {
    "duration": 4,
    "start_time": "2022-11-17T06:55:12.776Z"
   },
   {
    "duration": 4,
    "start_time": "2022-11-17T06:55:20.923Z"
   },
   {
    "duration": 23,
    "start_time": "2022-11-17T06:55:27.396Z"
   },
   {
    "duration": 9,
    "start_time": "2022-11-17T06:55:30.428Z"
   },
   {
    "duration": 5,
    "start_time": "2022-11-17T06:55:32.388Z"
   },
   {
    "duration": 12,
    "start_time": "2022-11-17T06:55:47.888Z"
   },
   {
    "duration": 3,
    "start_time": "2022-11-17T06:55:55.380Z"
   },
   {
    "duration": 4217,
    "start_time": "2022-11-17T06:58:58.681Z"
   },
   {
    "duration": 2131,
    "start_time": "2022-11-17T06:59:54.614Z"
   },
   {
    "duration": 1282,
    "start_time": "2022-11-17T06:59:56.748Z"
   },
   {
    "duration": 49,
    "start_time": "2022-11-17T06:59:58.032Z"
   },
   {
    "duration": 3,
    "start_time": "2022-11-17T06:59:58.083Z"
   },
   {
    "duration": 16,
    "start_time": "2022-11-17T06:59:58.088Z"
   },
   {
    "duration": 4,
    "start_time": "2022-11-17T06:59:58.105Z"
   },
   {
    "duration": 23,
    "start_time": "2022-11-17T06:59:58.111Z"
   },
   {
    "duration": 5,
    "start_time": "2022-11-17T06:59:58.136Z"
   },
   {
    "duration": 15,
    "start_time": "2022-11-17T06:59:58.143Z"
   },
   {
    "duration": 6,
    "start_time": "2022-11-17T06:59:58.160Z"
   },
   {
    "duration": 12,
    "start_time": "2022-11-17T06:59:58.169Z"
   },
   {
    "duration": 8,
    "start_time": "2022-11-17T06:59:58.184Z"
   },
   {
    "duration": 42,
    "start_time": "2022-11-17T06:59:58.195Z"
   },
   {
    "duration": 44,
    "start_time": "2022-11-17T06:59:58.239Z"
   },
   {
    "duration": 1637,
    "start_time": "2022-11-17T06:59:58.285Z"
   },
   {
    "duration": 366,
    "start_time": "2022-11-17T06:59:59.924Z"
   },
   {
    "duration": 33,
    "start_time": "2022-11-17T07:00:00.292Z"
   },
   {
    "duration": 135,
    "start_time": "2022-11-17T07:00:00.328Z"
   },
   {
    "duration": 17,
    "start_time": "2022-11-17T07:00:00.465Z"
   },
   {
    "duration": 4300,
    "start_time": "2022-11-17T07:00:00.484Z"
   },
   {
    "duration": 32,
    "start_time": "2022-11-17T07:01:06.912Z"
   },
   {
    "duration": 11,
    "start_time": "2022-11-17T07:01:20.848Z"
   },
   {
    "duration": 4,
    "start_time": "2022-11-17T07:01:24.077Z"
   },
   {
    "duration": 3950,
    "start_time": "2022-11-17T07:01:27.813Z"
   },
   {
    "duration": 25,
    "start_time": "2022-11-17T07:01:51.945Z"
   },
   {
    "duration": 3,
    "start_time": "2022-11-17T07:02:43.381Z"
   },
   {
    "duration": 3,
    "start_time": "2022-11-17T07:02:47.872Z"
   },
   {
    "duration": 3987,
    "start_time": "2022-11-17T07:03:02.086Z"
   },
   {
    "duration": 5,
    "start_time": "2022-11-17T07:03:27.134Z"
   },
   {
    "duration": 4,
    "start_time": "2022-11-17T07:05:13.660Z"
   },
   {
    "duration": 11,
    "start_time": "2022-11-17T07:05:51.304Z"
   },
   {
    "duration": 4,
    "start_time": "2022-11-17T07:05:54.622Z"
   },
   {
    "duration": 11,
    "start_time": "2022-11-17T07:06:01.811Z"
   },
   {
    "duration": 4,
    "start_time": "2022-11-17T07:06:05.175Z"
   },
   {
    "duration": 18405,
    "start_time": "2022-11-17T07:06:10.834Z"
   },
   {
    "duration": 4,
    "start_time": "2022-11-17T07:08:34.072Z"
   },
   {
    "duration": 24,
    "start_time": "2022-11-17T07:08:57.968Z"
   },
   {
    "duration": 21,
    "start_time": "2022-11-17T07:09:18.559Z"
   },
   {
    "duration": 26,
    "start_time": "2022-11-17T07:26:52.251Z"
   },
   {
    "duration": 28,
    "start_time": "2022-11-17T07:27:06.018Z"
   },
   {
    "duration": 27,
    "start_time": "2022-11-17T07:27:11.660Z"
   },
   {
    "duration": 29,
    "start_time": "2022-11-17T07:27:52.816Z"
   },
   {
    "duration": 26,
    "start_time": "2022-11-17T07:28:31.682Z"
   },
   {
    "duration": 4,
    "start_time": "2022-11-17T07:32:04.699Z"
   },
   {
    "duration": 1300,
    "start_time": "2022-11-17T07:46:39.946Z"
   },
   {
    "duration": 54,
    "start_time": "2022-11-17T07:46:45.188Z"
   },
   {
    "duration": 4,
    "start_time": "2022-11-17T07:46:46.892Z"
   },
   {
    "duration": 18,
    "start_time": "2022-11-17T07:46:47.422Z"
   },
   {
    "duration": 3,
    "start_time": "2022-11-17T07:46:51.614Z"
   },
   {
    "duration": 13,
    "start_time": "2022-11-17T07:46:52.266Z"
   },
   {
    "duration": 5,
    "start_time": "2022-11-17T07:46:53.174Z"
   },
   {
    "duration": 13,
    "start_time": "2022-11-17T07:46:56.272Z"
   },
   {
    "duration": 4,
    "start_time": "2022-11-17T07:46:59.239Z"
   },
   {
    "duration": 5,
    "start_time": "2022-11-17T07:47:00.677Z"
   },
   {
    "duration": 12,
    "start_time": "2022-11-17T07:47:02.118Z"
   },
   {
    "duration": 14,
    "start_time": "2022-11-17T07:47:03.094Z"
   },
   {
    "duration": 37,
    "start_time": "2022-11-17T07:47:05.579Z"
   },
   {
    "duration": 1541,
    "start_time": "2022-11-17T07:47:07.218Z"
   },
   {
    "duration": 358,
    "start_time": "2022-11-17T07:47:12.150Z"
   },
   {
    "duration": 12,
    "start_time": "2022-11-17T07:47:16.285Z"
   },
   {
    "duration": 12,
    "start_time": "2022-11-17T07:47:17.697Z"
   },
   {
    "duration": 4,
    "start_time": "2022-11-17T07:47:21.451Z"
   },
   {
    "duration": 19283,
    "start_time": "2022-11-17T07:47:24.763Z"
   },
   {
    "duration": 25,
    "start_time": "2022-11-17T07:47:47.859Z"
   },
   {
    "duration": 4,
    "start_time": "2022-11-17T07:47:51.013Z"
   },
   {
    "duration": 4,
    "start_time": "2022-11-17T07:54:43.536Z"
   },
   {
    "duration": 49,
    "start_time": "2022-11-17T07:54:47.434Z"
   },
   {
    "duration": 4,
    "start_time": "2022-11-17T07:54:48.811Z"
   },
   {
    "duration": 12,
    "start_time": "2022-11-17T07:54:50.350Z"
   },
   {
    "duration": 4,
    "start_time": "2022-11-17T07:54:53.294Z"
   },
   {
    "duration": 14,
    "start_time": "2022-11-17T07:54:54.278Z"
   },
   {
    "duration": 6,
    "start_time": "2022-11-17T07:54:55.306Z"
   },
   {
    "duration": 12,
    "start_time": "2022-11-17T07:54:58.440Z"
   },
   {
    "duration": 4,
    "start_time": "2022-11-17T07:55:00.701Z"
   },
   {
    "duration": 5,
    "start_time": "2022-11-17T07:55:02.349Z"
   },
   {
    "duration": 5,
    "start_time": "2022-11-17T07:55:03.655Z"
   },
   {
    "duration": 12,
    "start_time": "2022-11-17T07:55:04.558Z"
   },
   {
    "duration": 39,
    "start_time": "2022-11-17T07:55:07.710Z"
   },
   {
    "duration": 1617,
    "start_time": "2022-11-17T07:55:08.622Z"
   },
   {
    "duration": 366,
    "start_time": "2022-11-17T07:55:10.243Z"
   },
   {
    "duration": 10,
    "start_time": "2022-11-17T07:55:19.707Z"
   },
   {
    "duration": 17,
    "start_time": "2022-11-17T07:55:21.213Z"
   },
   {
    "duration": 3,
    "start_time": "2022-11-17T07:55:24.612Z"
   },
   {
    "duration": 19326,
    "start_time": "2022-11-17T07:55:25.654Z"
   },
   {
    "duration": 25,
    "start_time": "2022-11-17T07:55:50.255Z"
   },
   {
    "duration": 3,
    "start_time": "2022-11-17T07:55:53.307Z"
   },
   {
    "duration": 455944,
    "start_time": "2022-11-17T07:55:58.736Z"
   },
   {
    "duration": 3,
    "start_time": "2022-11-17T08:03:56.567Z"
   },
   {
    "duration": 1940,
    "start_time": "2022-11-17T12:32:23.273Z"
   },
   {
    "duration": 10729,
    "start_time": "2022-11-17T12:32:30.298Z"
   },
   {
    "duration": 34,
    "start_time": "2022-11-17T12:32:41.210Z"
   },
   {
    "duration": 1238,
    "start_time": "2022-11-17T12:32:58.077Z"
   },
   {
    "duration": 99,
    "start_time": "2022-11-17T12:33:03.712Z"
   },
   {
    "duration": 4,
    "start_time": "2022-11-17T12:33:05.017Z"
   },
   {
    "duration": 14,
    "start_time": "2022-11-17T12:33:05.510Z"
   },
   {
    "duration": 5,
    "start_time": "2022-11-17T12:33:09.020Z"
   },
   {
    "duration": 13,
    "start_time": "2022-11-17T12:33:09.568Z"
   },
   {
    "duration": 5,
    "start_time": "2022-11-17T12:33:10.470Z"
   },
   {
    "duration": 11,
    "start_time": "2022-11-17T12:33:14.994Z"
   },
   {
    "duration": 4,
    "start_time": "2022-11-17T12:33:15.903Z"
   },
   {
    "duration": 5,
    "start_time": "2022-11-17T12:33:17.052Z"
   },
   {
    "duration": 5,
    "start_time": "2022-11-17T12:33:18.212Z"
   },
   {
    "duration": 12,
    "start_time": "2022-11-17T12:33:20.676Z"
   },
   {
    "duration": 37,
    "start_time": "2022-11-17T12:33:21.576Z"
   },
   {
    "duration": 1527,
    "start_time": "2022-11-17T12:33:22.710Z"
   },
   {
    "duration": 374,
    "start_time": "2022-11-17T12:33:26.636Z"
   },
   {
    "duration": 10,
    "start_time": "2022-11-17T12:33:31.049Z"
   },
   {
    "duration": 16,
    "start_time": "2022-11-17T12:33:32.252Z"
   },
   {
    "duration": 4,
    "start_time": "2022-11-17T12:33:35.975Z"
   },
   {
    "duration": 19635,
    "start_time": "2022-11-17T12:33:37.875Z"
   },
   {
    "duration": 26,
    "start_time": "2022-11-17T12:34:01.108Z"
   },
   {
    "duration": 3,
    "start_time": "2022-11-17T12:34:12.527Z"
   },
   {
    "duration": 0,
    "start_time": "2022-11-17T12:41:10.985Z"
   },
   {
    "duration": 4,
    "start_time": "2022-11-17T12:41:25.816Z"
   },
   {
    "duration": 540129,
    "start_time": "2022-11-17T12:41:29.810Z"
   },
   {
    "duration": 499695,
    "start_time": "2022-11-17T12:52:33.436Z"
   },
   {
    "duration": 0,
    "start_time": "2022-11-17T13:00:53.137Z"
   },
   {
    "duration": 4,
    "start_time": "2022-11-17T13:00:55.328Z"
   },
   {
    "duration": 3,
    "start_time": "2022-11-17T13:01:01.628Z"
   },
   {
    "duration": 15,
    "start_time": "2022-11-17T13:01:04.790Z"
   },
   {
    "duration": 3,
    "start_time": "2022-11-17T13:01:26.604Z"
   },
   {
    "duration": 12,
    "start_time": "2022-11-17T13:01:31.566Z"
   },
   {
    "duration": 3,
    "start_time": "2022-11-17T13:02:33.468Z"
   },
   {
    "duration": 45196,
    "start_time": "2022-11-17T13:02:42.915Z"
   },
   {
    "duration": 2,
    "start_time": "2022-11-17T13:03:30.504Z"
   },
   {
    "duration": 20764,
    "start_time": "2022-11-17T13:03:32.134Z"
   },
   {
    "duration": 270,
    "start_time": "2022-11-17T13:04:16.113Z"
   },
   {
    "duration": 3,
    "start_time": "2022-11-17T13:16:35.318Z"
   },
   {
    "duration": 614,
    "start_time": "2022-11-17T13:18:49.028Z"
   },
   {
    "duration": 32,
    "start_time": "2022-11-17T13:25:15.945Z"
   },
   {
    "duration": 4,
    "start_time": "2022-11-17T13:28:38.774Z"
   },
   {
    "duration": 9,
    "start_time": "2022-11-17T13:31:47.431Z"
   },
   {
    "duration": 9,
    "start_time": "2022-11-17T13:31:58.039Z"
   },
   {
    "duration": 6,
    "start_time": "2022-11-17T13:33:18.478Z"
   },
   {
    "duration": 8,
    "start_time": "2022-11-17T13:33:26.612Z"
   },
   {
    "duration": 5,
    "start_time": "2022-11-17T13:33:35.063Z"
   },
   {
    "duration": 7,
    "start_time": "2022-11-17T13:33:47.877Z"
   },
   {
    "duration": 2176,
    "start_time": "2022-11-17T13:33:55.211Z"
   },
   {
    "duration": 1238,
    "start_time": "2022-11-17T13:33:57.389Z"
   },
   {
    "duration": 48,
    "start_time": "2022-11-17T13:33:58.628Z"
   },
   {
    "duration": 3,
    "start_time": "2022-11-17T13:33:58.678Z"
   },
   {
    "duration": 14,
    "start_time": "2022-11-17T13:33:58.683Z"
   },
   {
    "duration": 3,
    "start_time": "2022-11-17T13:33:58.698Z"
   },
   {
    "duration": 15,
    "start_time": "2022-11-17T13:33:58.703Z"
   },
   {
    "duration": 5,
    "start_time": "2022-11-17T13:33:58.719Z"
   },
   {
    "duration": 13,
    "start_time": "2022-11-17T13:33:58.737Z"
   },
   {
    "duration": 3,
    "start_time": "2022-11-17T13:33:58.753Z"
   },
   {
    "duration": 6,
    "start_time": "2022-11-17T13:33:58.758Z"
   },
   {
    "duration": 6,
    "start_time": "2022-11-17T13:33:58.766Z"
   },
   {
    "duration": 12,
    "start_time": "2022-11-17T13:33:58.774Z"
   },
   {
    "duration": 69,
    "start_time": "2022-11-17T13:33:58.788Z"
   },
   {
    "duration": 1609,
    "start_time": "2022-11-17T13:33:58.859Z"
   },
   {
    "duration": 342,
    "start_time": "2022-11-17T13:34:00.470Z"
   },
   {
    "duration": 9,
    "start_time": "2022-11-17T13:34:00.814Z"
   },
   {
    "duration": 35,
    "start_time": "2022-11-17T13:34:00.825Z"
   },
   {
    "duration": 22,
    "start_time": "2022-11-17T13:34:00.862Z"
   },
   {
    "duration": 22,
    "start_time": "2022-11-17T13:34:00.886Z"
   },
   {
    "duration": 13,
    "start_time": "2022-11-17T13:34:00.910Z"
   },
   {
    "duration": 18729,
    "start_time": "2022-11-17T13:34:00.925Z"
   },
   {
    "duration": 25,
    "start_time": "2022-11-17T13:34:19.655Z"
   },
   {
    "duration": 3,
    "start_time": "2022-11-17T13:34:19.681Z"
   },
   {
    "duration": 21505,
    "start_time": "2022-11-17T13:34:19.686Z"
   },
   {
    "duration": 274,
    "start_time": "2022-11-17T13:34:41.193Z"
   },
   {
    "duration": 69,
    "start_time": "2022-11-17T13:34:41.469Z"
   },
   {
    "duration": 1619,
    "start_time": "2022-11-17T18:59:52.400Z"
   },
   {
    "duration": 7493,
    "start_time": "2022-11-17T18:59:57.586Z"
   },
   {
    "duration": 1414,
    "start_time": "2022-11-17T19:00:14.608Z"
   },
   {
    "duration": 168,
    "start_time": "2022-11-17T19:00:16.981Z"
   },
   {
    "duration": 4,
    "start_time": "2022-11-17T19:00:18.318Z"
   },
   {
    "duration": 15,
    "start_time": "2022-11-17T19:00:19.094Z"
   },
   {
    "duration": 4,
    "start_time": "2022-11-17T19:00:22.244Z"
   },
   {
    "duration": 13,
    "start_time": "2022-11-17T19:00:23.462Z"
   },
   {
    "duration": 6,
    "start_time": "2022-11-17T19:00:24.418Z"
   },
   {
    "duration": 12,
    "start_time": "2022-11-17T19:00:28.580Z"
   },
   {
    "duration": 4,
    "start_time": "2022-11-17T19:00:29.475Z"
   },
   {
    "duration": 6,
    "start_time": "2022-11-17T19:00:30.783Z"
   },
   {
    "duration": 5,
    "start_time": "2022-11-17T19:00:31.909Z"
   },
   {
    "duration": 11,
    "start_time": "2022-11-17T19:00:32.731Z"
   },
   {
    "duration": 37,
    "start_time": "2022-11-17T19:00:36.545Z"
   },
   {
    "duration": 1530,
    "start_time": "2022-11-17T19:00:37.515Z"
   },
   {
    "duration": 382,
    "start_time": "2022-11-17T19:00:42.158Z"
   },
   {
    "duration": 14,
    "start_time": "2022-11-17T19:00:50.729Z"
   },
   {
    "duration": 16,
    "start_time": "2022-11-17T19:00:52.150Z"
   },
   {
    "duration": 12,
    "start_time": "2022-11-17T19:02:12.714Z"
   },
   {
    "duration": 16,
    "start_time": "2022-11-17T19:04:03.529Z"
   },
   {
    "duration": 12,
    "start_time": "2022-11-17T19:04:05.597Z"
   },
   {
    "duration": 28,
    "start_time": "2022-11-17T19:05:17.484Z"
   },
   {
    "duration": 4,
    "start_time": "2022-11-17T19:06:14.680Z"
   },
   {
    "duration": 18052,
    "start_time": "2022-11-17T19:06:19.428Z"
   },
   {
    "duration": 27,
    "start_time": "2022-11-17T19:06:39.880Z"
   },
   {
    "duration": 26,
    "start_time": "2022-11-17T19:08:05.912Z"
   },
   {
    "duration": 3,
    "start_time": "2022-11-17T19:11:23.199Z"
   },
   {
    "duration": 21534,
    "start_time": "2022-11-17T19:11:26.424Z"
   },
   {
    "duration": 274,
    "start_time": "2022-11-17T19:11:55.449Z"
   },
   {
    "duration": 269,
    "start_time": "2022-11-17T19:12:58.260Z"
   },
   {
    "duration": 23,
    "start_time": "2022-11-17T19:13:40.502Z"
   },
   {
    "duration": 22,
    "start_time": "2022-11-17T19:14:22.603Z"
   },
   {
    "duration": 314,
    "start_time": "2022-11-17T19:17:11.308Z"
   },
   {
    "duration": 6,
    "start_time": "2022-11-17T19:22:25.114Z"
   },
   {
    "duration": 5,
    "start_time": "2022-11-17T19:22:30.444Z"
   },
   {
    "duration": 8,
    "start_time": "2022-11-17T19:22:45.945Z"
   },
   {
    "duration": 9,
    "start_time": "2022-11-17T19:24:40.526Z"
   },
   {
    "duration": 43,
    "start_time": "2022-11-17T19:47:18.025Z"
   },
   {
    "duration": 11,
    "start_time": "2022-11-17T19:47:23.568Z"
   },
   {
    "duration": 880,
    "start_time": "2022-11-17T19:48:00.942Z"
   },
   {
    "duration": 11,
    "start_time": "2022-11-17T19:48:44.312Z"
   },
   {
    "duration": 12,
    "start_time": "2022-11-17T19:48:50.009Z"
   },
   {
    "duration": 17,
    "start_time": "2022-11-17T19:48:53.594Z"
   },
   {
    "duration": 4,
    "start_time": "2022-11-17T19:49:13.157Z"
   },
   {
    "duration": 876,
    "start_time": "2022-11-17T19:49:41.349Z"
   },
   {
    "duration": 6,
    "start_time": "2022-11-17T19:49:49.848Z"
   },
   {
    "duration": 16,
    "start_time": "2022-11-17T19:49:52.410Z"
   },
   {
    "duration": 6,
    "start_time": "2022-11-17T19:49:59.036Z"
   },
   {
    "duration": 5,
    "start_time": "2022-11-17T19:50:17.892Z"
   },
   {
    "duration": 7,
    "start_time": "2022-11-17T19:50:24.473Z"
   },
   {
    "duration": 11,
    "start_time": "2022-11-17T19:54:05.066Z"
   },
   {
    "duration": 58,
    "start_time": "2022-11-18T06:14:08.479Z"
   },
   {
    "duration": 7634,
    "start_time": "2022-11-18T06:14:14.988Z"
   },
   {
    "duration": 1543,
    "start_time": "2022-11-18T06:14:31.967Z"
   },
   {
    "duration": 190,
    "start_time": "2022-11-18T06:14:38.581Z"
   },
   {
    "duration": 4,
    "start_time": "2022-11-18T06:14:40.449Z"
   },
   {
    "duration": 110,
    "start_time": "2022-11-18T06:14:41.338Z"
   },
   {
    "duration": 45,
    "start_time": "2022-11-18T06:15:03.337Z"
   },
   {
    "duration": 41,
    "start_time": "2022-11-18T06:15:08.991Z"
   },
   {
    "duration": 13,
    "start_time": "2022-11-18T06:15:13.602Z"
   },
   {
    "duration": 6,
    "start_time": "2022-11-18T06:15:14.930Z"
   },
   {
    "duration": 15,
    "start_time": "2022-11-18T06:15:16.247Z"
   },
   {
    "duration": 7,
    "start_time": "2022-11-18T06:15:18.484Z"
   },
   {
    "duration": 10,
    "start_time": "2022-11-18T06:15:22.276Z"
   },
   {
    "duration": 4,
    "start_time": "2022-11-18T06:15:24.068Z"
   },
   {
    "duration": 5,
    "start_time": "2022-11-18T06:15:27.025Z"
   },
   {
    "duration": 5,
    "start_time": "2022-11-18T06:15:31.424Z"
   },
   {
    "duration": 11,
    "start_time": "2022-11-18T06:15:32.875Z"
   },
   {
    "duration": 1530,
    "start_time": "2022-11-18T06:15:34.532Z"
   },
   {
    "duration": 434,
    "start_time": "2022-11-18T06:15:41.403Z"
   },
   {
    "duration": 323,
    "start_time": "2022-11-18T06:15:57.468Z"
   },
   {
    "duration": 390,
    "start_time": "2022-11-18T06:16:06.494Z"
   },
   {
    "duration": 385,
    "start_time": "2022-11-18T06:16:12.566Z"
   },
   {
    "duration": 31,
    "start_time": "2022-11-18T06:16:22.196Z"
   },
   {
    "duration": 347,
    "start_time": "2022-11-18T06:16:27.450Z"
   },
   {
    "duration": 10,
    "start_time": "2022-11-18T06:25:37.884Z"
   },
   {
    "duration": 11,
    "start_time": "2022-11-18T06:25:40.156Z"
   },
   {
    "duration": 27,
    "start_time": "2022-11-18T06:25:43.105Z"
   },
   {
    "duration": 3,
    "start_time": "2022-11-18T06:25:46.312Z"
   },
   {
    "duration": 18382,
    "start_time": "2022-11-18T06:25:49.076Z"
   },
   {
    "duration": 25,
    "start_time": "2022-11-18T06:26:11.136Z"
   },
   {
    "duration": 2,
    "start_time": "2022-11-18T06:26:14.759Z"
   },
   {
    "duration": 20722,
    "start_time": "2022-11-18T06:26:16.539Z"
   },
   {
    "duration": 261,
    "start_time": "2022-11-18T06:26:40.128Z"
   },
   {
    "duration": 26,
    "start_time": "2022-11-18T06:26:42.604Z"
   },
   {
    "duration": 355,
    "start_time": "2022-11-18T06:26:45.285Z"
   },
   {
    "duration": 9,
    "start_time": "2022-11-18T06:26:54.902Z"
   },
   {
    "duration": 5,
    "start_time": "2022-11-18T06:40:21.156Z"
   },
   {
    "duration": 32,
    "start_time": "2022-11-18T06:41:08.552Z"
   },
   {
    "duration": 4,
    "start_time": "2022-11-18T06:41:37.543Z"
   },
   {
    "duration": 5,
    "start_time": "2022-11-18T06:41:48.042Z"
   },
   {
    "duration": 34,
    "start_time": "2022-11-18T06:41:50.459Z"
   },
   {
    "duration": 4,
    "start_time": "2022-11-18T06:59:25.842Z"
   },
   {
    "duration": 38,
    "start_time": "2022-11-18T06:59:29.239Z"
   },
   {
    "duration": 4,
    "start_time": "2022-11-18T06:59:51.018Z"
   },
   {
    "duration": 38,
    "start_time": "2022-11-18T06:59:52.120Z"
   },
   {
    "duration": 3,
    "start_time": "2022-11-18T07:03:20.453Z"
   },
   {
    "duration": 123,
    "start_time": "2022-11-18T07:03:24.210Z"
   },
   {
    "duration": 4,
    "start_time": "2022-11-18T07:03:36.709Z"
   },
   {
    "duration": 212,
    "start_time": "2022-11-18T07:03:39.891Z"
   },
   {
    "duration": 224,
    "start_time": "2022-11-18T07:09:40.068Z"
   },
   {
    "duration": 267,
    "start_time": "2022-11-18T07:09:59.669Z"
   },
   {
    "duration": 6,
    "start_time": "2022-11-18T07:10:57.233Z"
   },
   {
    "duration": 416,
    "start_time": "2022-11-18T07:10:59.686Z"
   },
   {
    "duration": 6,
    "start_time": "2022-11-18T07:11:08.381Z"
   },
   {
    "duration": 391,
    "start_time": "2022-11-18T07:11:09.820Z"
   },
   {
    "duration": 6,
    "start_time": "2022-11-18T07:11:28.633Z"
   },
   {
    "duration": 1317,
    "start_time": "2022-11-18T07:11:30.425Z"
   },
   {
    "duration": 6,
    "start_time": "2022-11-18T07:11:38.580Z"
   },
   {
    "duration": 2260,
    "start_time": "2022-11-18T07:11:39.240Z"
   },
   {
    "duration": 8,
    "start_time": "2022-11-18T07:11:52.575Z"
   },
   {
    "duration": 2283,
    "start_time": "2022-11-18T07:11:53.179Z"
   },
   {
    "duration": 5,
    "start_time": "2022-11-18T07:12:11.562Z"
   },
   {
    "duration": 2128,
    "start_time": "2022-11-18T07:12:12.517Z"
   },
   {
    "duration": 6,
    "start_time": "2022-11-18T07:12:28.281Z"
   },
   {
    "duration": 2138,
    "start_time": "2022-11-18T07:12:29.065Z"
   },
   {
    "duration": 7,
    "start_time": "2022-11-18T07:14:36.874Z"
   },
   {
    "duration": 10,
    "start_time": "2022-11-18T07:16:32.528Z"
   },
   {
    "duration": 224,
    "start_time": "2022-11-18T07:16:34.390Z"
   },
   {
    "duration": 7,
    "start_time": "2022-11-18T07:17:09.742Z"
   },
   {
    "duration": 3433,
    "start_time": "2022-11-18T07:17:10.403Z"
   },
   {
    "duration": 11,
    "start_time": "2022-11-18T07:23:36.431Z"
   },
   {
    "duration": 3568,
    "start_time": "2022-11-18T07:23:37.273Z"
   },
   {
    "duration": 19,
    "start_time": "2022-11-18T07:25:35.930Z"
   },
   {
    "duration": 124,
    "start_time": "2022-11-18T07:25:43.768Z"
   },
   {
    "duration": 7,
    "start_time": "2022-11-18T07:35:33.204Z"
   },
   {
    "duration": 11,
    "start_time": "2022-11-18T07:36:04.764Z"
   },
   {
    "duration": 3373,
    "start_time": "2022-11-18T07:36:06.074Z"
   },
   {
    "duration": 10,
    "start_time": "2022-11-18T07:38:41.082Z"
   },
   {
    "duration": 6,
    "start_time": "2022-11-18T07:38:43.960Z"
   },
   {
    "duration": 7,
    "start_time": "2022-11-18T07:38:45.963Z"
   },
   {
    "duration": 13,
    "start_time": "2022-11-18T07:39:16.959Z"
   },
   {
    "duration": 12,
    "start_time": "2022-11-18T07:39:32.886Z"
   },
   {
    "duration": 10,
    "start_time": "2022-11-18T07:41:07.568Z"
   },
   {
    "duration": 11,
    "start_time": "2022-11-18T07:41:51.468Z"
   },
   {
    "duration": 5004,
    "start_time": "2022-11-18T07:44:53.855Z"
   },
   {
    "duration": 13,
    "start_time": "2022-11-18T07:53:59.480Z"
   },
   {
    "duration": 1361,
    "start_time": "2022-11-18T07:56:10.316Z"
   },
   {
    "duration": 10,
    "start_time": "2022-11-18T07:59:33.760Z"
   },
   {
    "duration": 3465,
    "start_time": "2022-11-18T07:59:40.382Z"
   },
   {
    "duration": 4975,
    "start_time": "2022-11-18T07:59:55.560Z"
   },
   {
    "duration": 1430,
    "start_time": "2022-11-18T08:00:06.944Z"
   },
   {
    "duration": 7,
    "start_time": "2022-11-18T08:08:26.441Z"
   },
   {
    "duration": 385,
    "start_time": "2022-11-18T08:08:27.453Z"
   },
   {
    "duration": 7,
    "start_time": "2022-11-18T08:09:55.947Z"
   },
   {
    "duration": 262,
    "start_time": "2022-11-18T08:10:07.389Z"
   },
   {
    "duration": 376,
    "start_time": "2022-11-18T08:10:38.361Z"
   },
   {
    "duration": 182,
    "start_time": "2022-11-18T08:11:05.675Z"
   },
   {
    "duration": 6,
    "start_time": "2022-11-18T08:11:47.719Z"
   },
   {
    "duration": 325,
    "start_time": "2022-11-18T08:11:48.617Z"
   },
   {
    "duration": 1302,
    "start_time": "2022-11-18T08:12:04.752Z"
   },
   {
    "duration": 74,
    "start_time": "2022-11-18T08:12:07.973Z"
   },
   {
    "duration": 5,
    "start_time": "2022-11-18T08:12:11.543Z"
   },
   {
    "duration": 44,
    "start_time": "2022-11-18T08:12:12.332Z"
   },
   {
    "duration": 14,
    "start_time": "2022-11-18T08:12:15.766Z"
   },
   {
    "duration": 7,
    "start_time": "2022-11-18T08:12:19.677Z"
   },
   {
    "duration": 19,
    "start_time": "2022-11-18T08:12:21.196Z"
   },
   {
    "duration": 9,
    "start_time": "2022-11-18T08:12:26.203Z"
   },
   {
    "duration": 12,
    "start_time": "2022-11-18T08:12:28.251Z"
   },
   {
    "duration": 4,
    "start_time": "2022-11-18T08:12:31.795Z"
   },
   {
    "duration": 5,
    "start_time": "2022-11-18T08:12:32.830Z"
   },
   {
    "duration": 6,
    "start_time": "2022-11-18T08:12:34.046Z"
   },
   {
    "duration": 12,
    "start_time": "2022-11-18T08:12:35.023Z"
   },
   {
    "duration": 1591,
    "start_time": "2022-11-18T08:12:36.621Z"
   },
   {
    "duration": 348,
    "start_time": "2022-11-18T08:12:41.583Z"
   },
   {
    "duration": 12,
    "start_time": "2022-11-18T08:12:46.206Z"
   },
   {
    "duration": 12,
    "start_time": "2022-11-18T08:12:50.033Z"
   },
   {
    "duration": 26,
    "start_time": "2022-11-18T08:12:53.292Z"
   },
   {
    "duration": 3,
    "start_time": "2022-11-18T08:12:57.433Z"
   },
   {
    "duration": 19136,
    "start_time": "2022-11-18T08:12:58.708Z"
   },
   {
    "duration": 36,
    "start_time": "2022-11-18T08:13:20.507Z"
   },
   {
    "duration": 3,
    "start_time": "2022-11-18T08:13:24.795Z"
   },
   {
    "duration": 21668,
    "start_time": "2022-11-18T08:13:26.910Z"
   },
   {
    "duration": 221,
    "start_time": "2022-11-18T08:13:51.719Z"
   },
   {
    "duration": 104,
    "start_time": "2022-11-18T08:13:55.732Z"
   },
   {
    "duration": 282,
    "start_time": "2022-11-18T08:14:00.684Z"
   },
   {
    "duration": 7,
    "start_time": "2022-11-18T08:14:10.216Z"
   },
   {
    "duration": 271,
    "start_time": "2022-11-18T08:14:13.385Z"
   },
   {
    "duration": 9,
    "start_time": "2022-11-18T08:14:20.719Z"
   },
   {
    "duration": 116,
    "start_time": "2022-11-18T08:14:21.710Z"
   },
   {
    "duration": 7,
    "start_time": "2022-11-18T08:14:26.514Z"
   },
   {
    "duration": 10,
    "start_time": "2022-11-18T08:14:31.013Z"
   },
   {
    "duration": 359,
    "start_time": "2022-11-18T08:14:35.323Z"
   },
   {
    "duration": 10,
    "start_time": "2022-11-18T08:14:53.706Z"
   },
   {
    "duration": 176,
    "start_time": "2022-11-18T08:14:55.764Z"
   },
   {
    "duration": 139,
    "start_time": "2022-11-18T08:39:45.508Z"
   },
   {
    "duration": 352,
    "start_time": "2022-11-18T08:44:36.001Z"
   },
   {
    "duration": 7,
    "start_time": "2022-11-18T08:45:39.858Z"
   },
   {
    "duration": 4844,
    "start_time": "2022-11-18T08:46:00.802Z"
   },
   {
    "duration": 310,
    "start_time": "2022-11-18T08:46:19.725Z"
   },
   {
    "duration": 228,
    "start_time": "2022-11-18T08:46:48.609Z"
   },
   {
    "duration": 1393,
    "start_time": "2022-11-18T08:46:53.162Z"
   },
   {
    "duration": 149,
    "start_time": "2022-11-18T08:47:24.441Z"
   },
   {
    "duration": 130,
    "start_time": "2022-11-18T08:50:08.442Z"
   },
   {
    "duration": 3,
    "start_time": "2022-11-18T08:50:22.249Z"
   },
   {
    "duration": 30,
    "start_time": "2022-11-18T08:51:44.182Z"
   },
   {
    "duration": 30,
    "start_time": "2022-11-18T08:51:53.339Z"
   },
   {
    "duration": 417,
    "start_time": "2022-11-18T08:52:06.119Z"
   },
   {
    "duration": 5353,
    "start_time": "2022-11-18T08:52:16.088Z"
   },
   {
    "duration": 10,
    "start_time": "2022-11-18T08:52:52.079Z"
   },
   {
    "duration": 30,
    "start_time": "2022-11-18T08:52:58.829Z"
   },
   {
    "duration": 390,
    "start_time": "2022-11-18T08:58:03.045Z"
   },
   {
    "duration": 437,
    "start_time": "2022-11-18T08:58:10.411Z"
   },
   {
    "duration": 280,
    "start_time": "2022-11-18T08:58:48.463Z"
   },
   {
    "duration": 438,
    "start_time": "2022-11-18T08:59:28.634Z"
   },
   {
    "duration": 4,
    "start_time": "2022-11-18T09:14:49.489Z"
   },
   {
    "duration": 6,
    "start_time": "2022-11-18T09:14:57.173Z"
   },
   {
    "duration": 4,
    "start_time": "2022-11-18T09:15:07.579Z"
   },
   {
    "duration": 10,
    "start_time": "2022-11-18T09:15:15.328Z"
   },
   {
    "duration": 14,
    "start_time": "2022-11-18T09:15:22.598Z"
   },
   {
    "duration": 27,
    "start_time": "2022-11-18T09:15:28.161Z"
   },
   {
    "duration": 4,
    "start_time": "2022-11-18T09:15:43.859Z"
   },
   {
    "duration": 19548,
    "start_time": "2022-11-18T09:15:46.773Z"
   },
   {
    "duration": 27,
    "start_time": "2022-11-18T09:18:33.952Z"
   },
   {
    "duration": 3,
    "start_time": "2022-11-18T09:18:37.644Z"
   },
   {
    "duration": 22094,
    "start_time": "2022-11-18T09:18:40.376Z"
   },
   {
    "duration": 237,
    "start_time": "2022-11-18T09:19:24.218Z"
   },
   {
    "duration": 28,
    "start_time": "2022-11-18T09:19:31.171Z"
   },
   {
    "duration": 289,
    "start_time": "2022-11-18T09:19:36.796Z"
   },
   {
    "duration": 354,
    "start_time": "2022-11-18T09:19:45.595Z"
   },
   {
    "duration": 589,
    "start_time": "2022-11-18T09:19:52.584Z"
   },
   {
    "duration": 783,
    "start_time": "2022-11-18T09:20:02.953Z"
   },
   {
    "duration": 818,
    "start_time": "2022-11-18T09:20:10.672Z"
   },
   {
    "duration": 6,
    "start_time": "2022-11-18T09:20:43.276Z"
   },
   {
    "duration": 790,
    "start_time": "2022-11-18T09:20:47.572Z"
   },
   {
    "duration": 11,
    "start_time": "2022-11-18T09:20:56.793Z"
   },
   {
    "duration": 139,
    "start_time": "2022-11-18T09:20:59.429Z"
   },
   {
    "duration": 7,
    "start_time": "2022-11-18T09:21:10.892Z"
   },
   {
    "duration": 14,
    "start_time": "2022-11-18T09:21:32.538Z"
   },
   {
    "duration": 1155,
    "start_time": "2022-11-18T09:21:58.979Z"
   },
   {
    "duration": 11466,
    "start_time": "2022-11-18T09:22:38.778Z"
   },
   {
    "duration": 9,
    "start_time": "2022-11-18T09:23:59.814Z"
   },
   {
    "duration": 471,
    "start_time": "2022-11-18T09:24:04.867Z"
   },
   {
    "duration": 4252,
    "start_time": "2022-11-18T09:24:31.845Z"
   },
   {
    "duration": 3,
    "start_time": "2022-11-18T09:24:54.980Z"
   },
   {
    "duration": 31,
    "start_time": "2022-11-18T09:24:56.514Z"
   },
   {
    "duration": 1289,
    "start_time": "2022-11-18T09:24:58.147Z"
   },
   {
    "duration": 12644,
    "start_time": "2022-11-18T09:25:09.600Z"
   },
   {
    "duration": 9,
    "start_time": "2022-11-18T09:39:09.789Z"
   },
   {
    "duration": 467,
    "start_time": "2022-11-18T09:39:13.772Z"
   },
   {
    "duration": 6,
    "start_time": "2022-11-18T09:40:36.372Z"
   },
   {
    "duration": 786,
    "start_time": "2022-11-18T09:40:41.063Z"
   },
   {
    "duration": 1127,
    "start_time": "2022-11-18T09:40:49.433Z"
   },
   {
    "duration": 480,
    "start_time": "2022-11-18T09:40:57.565Z"
   },
   {
    "duration": 181,
    "start_time": "2022-11-18T09:47:40.975Z"
   },
   {
    "duration": 202,
    "start_time": "2022-11-18T09:50:35.749Z"
   },
   {
    "duration": 209,
    "start_time": "2022-11-18T09:50:43.033Z"
   },
   {
    "duration": 238,
    "start_time": "2022-11-18T09:51:42.698Z"
   },
   {
    "duration": 47,
    "start_time": "2022-11-18T09:58:44.871Z"
   },
   {
    "duration": 159,
    "start_time": "2022-11-18T10:00:01.881Z"
   },
   {
    "duration": 225,
    "start_time": "2022-11-18T10:00:39.771Z"
   },
   {
    "duration": 249,
    "start_time": "2022-11-18T10:01:03.350Z"
   },
   {
    "duration": 720,
    "start_time": "2022-11-18T10:03:46.502Z"
   },
   {
    "duration": 772,
    "start_time": "2022-11-18T10:04:43.573Z"
   },
   {
    "duration": 1089,
    "start_time": "2022-11-18T10:05:16.304Z"
   },
   {
    "duration": 1383,
    "start_time": "2022-11-18T10:08:15.560Z"
   },
   {
    "duration": 1204,
    "start_time": "2022-11-18T10:11:09.455Z"
   },
   {
    "duration": 55,
    "start_time": "2022-11-18T10:11:15.057Z"
   },
   {
    "duration": 4,
    "start_time": "2022-11-18T10:11:19.657Z"
   },
   {
    "duration": 40,
    "start_time": "2022-11-18T10:11:20.321Z"
   },
   {
    "duration": 13,
    "start_time": "2022-11-18T10:11:21.425Z"
   },
   {
    "duration": 8,
    "start_time": "2022-11-18T10:11:27.061Z"
   },
   {
    "duration": 13,
    "start_time": "2022-11-18T10:11:31.907Z"
   },
   {
    "duration": 8,
    "start_time": "2022-11-18T10:11:33.055Z"
   },
   {
    "duration": 14,
    "start_time": "2022-11-18T10:11:38.288Z"
   },
   {
    "duration": 4,
    "start_time": "2022-11-18T10:11:39.796Z"
   },
   {
    "duration": 5,
    "start_time": "2022-11-18T10:11:42.843Z"
   },
   {
    "duration": 6,
    "start_time": "2022-11-18T10:11:44.236Z"
   },
   {
    "duration": 17,
    "start_time": "2022-11-18T10:11:48.740Z"
   },
   {
    "duration": 1566,
    "start_time": "2022-11-18T10:11:49.955Z"
   },
   {
    "duration": 366,
    "start_time": "2022-11-18T10:11:54.725Z"
   },
   {
    "duration": 11,
    "start_time": "2022-11-18T10:11:59.922Z"
   },
   {
    "duration": 12,
    "start_time": "2022-11-18T10:12:02.262Z"
   },
   {
    "duration": 26,
    "start_time": "2022-11-18T10:12:05.536Z"
   },
   {
    "duration": 3,
    "start_time": "2022-11-18T10:12:10.654Z"
   },
   {
    "duration": 18912,
    "start_time": "2022-11-18T10:12:11.902Z"
   },
   {
    "duration": 26,
    "start_time": "2022-11-18T10:12:32.085Z"
   },
   {
    "duration": 3,
    "start_time": "2022-11-18T10:12:38.163Z"
   },
   {
    "duration": 20797,
    "start_time": "2022-11-18T10:12:42.806Z"
   },
   {
    "duration": 228,
    "start_time": "2022-11-18T10:13:07.129Z"
   },
   {
    "duration": 26,
    "start_time": "2022-11-18T10:15:15.709Z"
   },
   {
    "duration": 813,
    "start_time": "2022-11-18T10:15:21.324Z"
   },
   {
    "duration": 4,
    "start_time": "2022-11-18T10:16:19.377Z"
   },
   {
    "duration": 68699,
    "start_time": "2022-11-18T10:16:22.140Z"
   },
   {
    "duration": 717,
    "start_time": "2022-11-18T10:18:24.074Z"
   },
   {
    "duration": 25,
    "start_time": "2022-11-18T10:18:32.724Z"
   },
   {
    "duration": 767,
    "start_time": "2022-11-18T10:18:39.374Z"
   },
   {
    "duration": 7,
    "start_time": "2022-11-18T10:25:48.085Z"
   },
   {
    "duration": 8941,
    "start_time": "2022-11-18T10:26:11.406Z"
   },
   {
    "duration": 8,
    "start_time": "2022-11-18T10:26:37.239Z"
   },
   {
    "duration": 6,
    "start_time": "2022-11-18T10:26:57.634Z"
   },
   {
    "duration": 8490,
    "start_time": "2022-11-18T10:27:02.651Z"
   },
   {
    "duration": 10,
    "start_time": "2022-11-18T10:28:44.024Z"
   },
   {
    "duration": 121,
    "start_time": "2022-11-18T10:28:44.925Z"
   },
   {
    "duration": 8,
    "start_time": "2022-11-18T10:28:49.189Z"
   },
   {
    "duration": 10,
    "start_time": "2022-11-18T10:28:50.137Z"
   },
   {
    "duration": 11669,
    "start_time": "2022-11-18T10:28:52.678Z"
   },
   {
    "duration": 10,
    "start_time": "2022-11-18T10:32:15.855Z"
   },
   {
    "duration": 3991,
    "start_time": "2022-11-18T10:32:19.411Z"
   },
   {
    "duration": 313,
    "start_time": "2022-11-18T10:33:25.697Z"
   },
   {
    "duration": 119,
    "start_time": "2022-11-18T10:33:47.818Z"
   },
   {
    "duration": 1059,
    "start_time": "2022-11-18T10:33:56.948Z"
   },
   {
    "duration": 2,
    "start_time": "2022-11-18T10:34:16.031Z"
   },
   {
    "duration": 31,
    "start_time": "2022-11-18T10:34:17.312Z"
   },
   {
    "duration": 13833,
    "start_time": "2022-11-18T10:34:20.407Z"
   },
   {
    "duration": 3,
    "start_time": "2022-11-18T11:02:20.652Z"
   },
   {
    "duration": 135581,
    "start_time": "2022-11-18T11:02:24.206Z"
   },
   {
    "duration": 3,
    "start_time": "2022-11-18T11:04:42.043Z"
   },
   {
    "duration": 106444,
    "start_time": "2022-11-18T11:04:43.238Z"
   },
   {
    "duration": 1102,
    "start_time": "2022-11-18T11:06:42.814Z"
   },
   {
    "duration": 1152,
    "start_time": "2022-11-18T11:06:51.849Z"
   },
   {
    "duration": 10,
    "start_time": "2022-11-18T11:08:21.873Z"
   },
   {
    "duration": 15,
    "start_time": "2022-11-18T11:08:32.749Z"
   },
   {
    "duration": 20,
    "start_time": "2022-11-18T11:10:12.443Z"
   },
   {
    "duration": 1045,
    "start_time": "2022-11-18T11:10:58.476Z"
   },
   {
    "duration": 7,
    "start_time": "2022-11-18T11:19:33.768Z"
   },
   {
    "duration": 1088,
    "start_time": "2022-11-18T11:21:29.894Z"
   },
   {
    "duration": 1089,
    "start_time": "2022-11-18T11:22:04.072Z"
   },
   {
    "duration": 11,
    "start_time": "2022-11-18T11:23:47.484Z"
   },
   {
    "duration": 2098,
    "start_time": "2022-11-18T11:36:46.468Z"
   },
   {
    "duration": 1210,
    "start_time": "2022-11-18T11:36:48.568Z"
   },
   {
    "duration": 65,
    "start_time": "2022-11-18T11:36:49.780Z"
   },
   {
    "duration": 4,
    "start_time": "2022-11-18T11:36:49.847Z"
   },
   {
    "duration": 57,
    "start_time": "2022-11-18T11:36:49.853Z"
   },
   {
    "duration": 11,
    "start_time": "2022-11-18T11:36:49.912Z"
   },
   {
    "duration": 13,
    "start_time": "2022-11-18T11:36:49.925Z"
   },
   {
    "duration": 20,
    "start_time": "2022-11-18T11:36:49.940Z"
   },
   {
    "duration": 10,
    "start_time": "2022-11-18T11:36:49.961Z"
   },
   {
    "duration": 18,
    "start_time": "2022-11-18T11:36:49.973Z"
   },
   {
    "duration": 5,
    "start_time": "2022-11-18T11:36:49.993Z"
   },
   {
    "duration": 27,
    "start_time": "2022-11-18T11:36:49.999Z"
   },
   {
    "duration": 14,
    "start_time": "2022-11-18T11:36:50.028Z"
   },
   {
    "duration": 18,
    "start_time": "2022-11-18T11:36:50.045Z"
   },
   {
    "duration": 1467,
    "start_time": "2022-11-18T11:36:50.064Z"
   },
   {
    "duration": 349,
    "start_time": "2022-11-18T11:36:51.535Z"
   },
   {
    "duration": 10,
    "start_time": "2022-11-18T11:36:51.886Z"
   },
   {
    "duration": 28,
    "start_time": "2022-11-18T11:36:51.898Z"
   },
   {
    "duration": 30,
    "start_time": "2022-11-18T11:36:51.928Z"
   },
   {
    "duration": 3,
    "start_time": "2022-11-18T11:36:51.960Z"
   },
   {
    "duration": 18793,
    "start_time": "2022-11-18T11:36:51.964Z"
   },
   {
    "duration": 24,
    "start_time": "2022-11-18T11:37:10.759Z"
   },
   {
    "duration": 3,
    "start_time": "2022-11-18T11:37:10.784Z"
   },
   {
    "duration": 69416,
    "start_time": "2022-11-18T11:37:10.790Z"
   },
   {
    "duration": 709,
    "start_time": "2022-11-18T11:38:20.208Z"
   },
   {
    "duration": 24,
    "start_time": "2022-11-18T11:38:20.919Z"
   },
   {
    "duration": 932,
    "start_time": "2022-11-18T11:38:20.948Z"
   },
   {
    "duration": 62,
    "start_time": "2022-11-18T11:38:21.882Z"
   },
   {
    "duration": 8915,
    "start_time": "2022-11-18T11:38:22.036Z"
   },
   {
    "duration": 101,
    "start_time": "2022-11-18T11:38:31.036Z"
   },
   {
    "duration": 126,
    "start_time": "2022-11-18T11:38:31.139Z"
   },
   {
    "duration": 7,
    "start_time": "2022-11-18T11:38:31.267Z"
   },
   {
    "duration": 37,
    "start_time": "2022-11-18T11:38:31.276Z"
   },
   {
    "duration": 11828,
    "start_time": "2022-11-18T11:38:31.315Z"
   },
   {
    "duration": 93,
    "start_time": "2022-11-18T11:38:43.145Z"
   },
   {
    "duration": 3984,
    "start_time": "2022-11-18T11:38:43.240Z"
   },
   {
    "duration": 1025,
    "start_time": "2022-11-18T11:38:47.226Z"
   },
   {
    "duration": 3,
    "start_time": "2022-11-18T11:38:48.253Z"
   },
   {
    "duration": 187,
    "start_time": "2022-11-18T11:38:48.258Z"
   },
   {
    "duration": 14094,
    "start_time": "2022-11-18T11:38:48.447Z"
   },
   {
    "duration": 4,
    "start_time": "2022-11-18T11:39:02.635Z"
   },
   {
    "duration": 105676,
    "start_time": "2022-11-18T11:39:02.641Z"
   },
   {
    "duration": 1176,
    "start_time": "2022-11-18T11:40:48.318Z"
   },
   {
    "duration": 18,
    "start_time": "2022-11-18T11:40:49.496Z"
   },
   {
    "duration": 25,
    "start_time": "2022-11-18T11:40:49.516Z"
   },
   {
    "duration": 8027,
    "start_time": "2022-11-18T13:42:47.351Z"
   },
   {
    "duration": 1304,
    "start_time": "2022-11-18T13:42:55.380Z"
   },
   {
    "duration": 56,
    "start_time": "2022-11-18T13:42:56.686Z"
   },
   {
    "duration": 5,
    "start_time": "2022-11-18T13:42:56.745Z"
   },
   {
    "duration": 46,
    "start_time": "2022-11-18T13:42:56.751Z"
   },
   {
    "duration": 13,
    "start_time": "2022-11-18T13:42:56.799Z"
   },
   {
    "duration": 6,
    "start_time": "2022-11-18T13:42:56.814Z"
   },
   {
    "duration": 33,
    "start_time": "2022-11-18T13:42:56.822Z"
   },
   {
    "duration": 8,
    "start_time": "2022-11-18T13:42:56.857Z"
   },
   {
    "duration": 15,
    "start_time": "2022-11-18T13:42:56.868Z"
   },
   {
    "duration": 4,
    "start_time": "2022-11-18T13:42:56.885Z"
   },
   {
    "duration": 7,
    "start_time": "2022-11-18T13:42:56.890Z"
   },
   {
    "duration": 7,
    "start_time": "2022-11-18T13:42:56.898Z"
   },
   {
    "duration": 12,
    "start_time": "2022-11-18T13:42:56.907Z"
   },
   {
    "duration": 1672,
    "start_time": "2022-11-18T13:42:56.953Z"
   },
   {
    "duration": 419,
    "start_time": "2022-11-18T13:42:58.627Z"
   },
   {
    "duration": 11,
    "start_time": "2022-11-18T13:42:59.051Z"
   },
   {
    "duration": 13,
    "start_time": "2022-11-18T13:42:59.064Z"
   },
   {
    "duration": 32,
    "start_time": "2022-11-18T13:42:59.079Z"
   },
   {
    "duration": 3,
    "start_time": "2022-11-18T13:42:59.113Z"
   },
   {
    "duration": 20993,
    "start_time": "2022-11-18T13:42:59.118Z"
   },
   {
    "duration": 26,
    "start_time": "2022-11-18T13:43:20.113Z"
   },
   {
    "duration": 4,
    "start_time": "2022-11-18T13:43:20.151Z"
   },
   {
    "duration": 73670,
    "start_time": "2022-11-18T13:43:20.157Z"
   },
   {
    "duration": 770,
    "start_time": "2022-11-18T13:44:33.828Z"
   },
   {
    "duration": 55,
    "start_time": "2022-11-18T13:44:34.599Z"
   },
   {
    "duration": 907,
    "start_time": "2022-11-18T13:44:34.655Z"
   },
   {
    "duration": 184,
    "start_time": "2022-11-18T13:44:35.568Z"
   },
   {
    "duration": 8998,
    "start_time": "2022-11-18T13:44:35.754Z"
   },
   {
    "duration": 98,
    "start_time": "2022-11-18T13:44:44.754Z"
   },
   {
    "duration": 139,
    "start_time": "2022-11-18T13:44:44.854Z"
   },
   {
    "duration": 7,
    "start_time": "2022-11-18T13:44:44.995Z"
   },
   {
    "duration": 24,
    "start_time": "2022-11-18T13:44:45.003Z"
   },
   {
    "duration": 12632,
    "start_time": "2022-11-18T13:44:45.028Z"
   },
   {
    "duration": 97,
    "start_time": "2022-11-18T13:44:57.663Z"
   },
   {
    "duration": 4327,
    "start_time": "2022-11-18T13:44:57.763Z"
   },
   {
    "duration": 1072,
    "start_time": "2022-11-18T13:45:02.093Z"
   },
   {
    "duration": 3,
    "start_time": "2022-11-18T13:45:03.167Z"
   },
   {
    "duration": 59,
    "start_time": "2022-11-18T13:45:03.172Z"
   },
   {
    "duration": 15025,
    "start_time": "2022-11-18T13:45:03.233Z"
   },
   {
    "duration": 5,
    "start_time": "2022-11-18T13:45:18.260Z"
   },
   {
    "duration": 117939,
    "start_time": "2022-11-18T13:45:18.352Z"
   },
   {
    "duration": 1291,
    "start_time": "2022-11-18T13:47:16.292Z"
   },
   {
    "duration": 23,
    "start_time": "2022-11-18T13:47:17.585Z"
   },
   {
    "duration": 14,
    "start_time": "2022-11-18T13:47:17.610Z"
   },
   {
    "duration": 1640,
    "start_time": "2022-11-18T17:06:42.351Z"
   },
   {
    "duration": 142,
    "start_time": "2022-11-18T17:12:56.094Z"
   },
   {
    "duration": 124,
    "start_time": "2022-11-18T17:14:38.064Z"
   },
   {
    "duration": 135,
    "start_time": "2022-11-18T17:16:18.662Z"
   },
   {
    "duration": 7085,
    "start_time": "2022-11-18T17:16:26.379Z"
   },
   {
    "duration": 1214,
    "start_time": "2022-11-18T17:16:43.604Z"
   },
   {
    "duration": 95,
    "start_time": "2022-11-18T17:16:49.303Z"
   },
   {
    "duration": 7,
    "start_time": "2022-11-18T17:16:56.623Z"
   },
   {
    "duration": 237,
    "start_time": "2022-11-18T17:17:07.634Z"
   },
   {
    "duration": 6,
    "start_time": "2022-11-18T17:17:17.213Z"
   },
   {
    "duration": 10,
    "start_time": "2022-11-18T17:17:21.148Z"
   },
   {
    "duration": 823,
    "start_time": "2022-11-18T17:17:25.849Z"
   },
   {
    "duration": 729,
    "start_time": "2022-11-18T17:17:45.534Z"
   },
   {
    "duration": 987,
    "start_time": "2022-11-18T17:18:02.706Z"
   },
   {
    "duration": 11,
    "start_time": "2022-11-18T17:19:30.338Z"
   },
   {
    "duration": 9,
    "start_time": "2022-11-18T17:19:46.123Z"
   },
   {
    "duration": 10,
    "start_time": "2022-11-18T17:19:49.413Z"
   },
   {
    "duration": 28,
    "start_time": "2022-11-18T17:19:57.093Z"
   },
   {
    "duration": 13,
    "start_time": "2022-11-18T17:21:46.253Z"
   },
   {
    "duration": 117,
    "start_time": "2022-11-18T17:22:18.163Z"
   },
   {
    "duration": 133,
    "start_time": "2022-11-18T17:34:13.083Z"
   },
   {
    "duration": 33,
    "start_time": "2022-11-18T17:34:20.093Z"
   },
   {
    "duration": 27,
    "start_time": "2022-11-18T17:34:31.973Z"
   },
   {
    "duration": 161,
    "start_time": "2022-11-18T17:35:18.514Z"
   },
   {
    "duration": 77,
    "start_time": "2022-11-18T17:36:00.805Z"
   },
   {
    "duration": 37,
    "start_time": "2022-11-18T17:40:56.383Z"
   },
   {
    "duration": 28,
    "start_time": "2022-11-18T17:41:06.665Z"
   },
   {
    "duration": 853,
    "start_time": "2022-11-18T17:42:10.252Z"
   },
   {
    "duration": 114,
    "start_time": "2022-11-18T17:43:11.003Z"
   },
   {
    "duration": 61,
    "start_time": "2022-11-18T17:44:18.190Z"
   },
   {
    "duration": 35,
    "start_time": "2022-11-18T17:44:33.385Z"
   },
   {
    "duration": 115,
    "start_time": "2022-11-18T17:44:50.635Z"
   },
   {
    "duration": 2233,
    "start_time": "2022-11-18T18:36:53.360Z"
   },
   {
    "duration": 1348,
    "start_time": "2022-11-18T18:37:04.939Z"
   },
   {
    "duration": 54,
    "start_time": "2022-11-18T18:37:09.660Z"
   },
   {
    "duration": 4,
    "start_time": "2022-11-18T18:37:10.740Z"
   },
   {
    "duration": 44,
    "start_time": "2022-11-18T18:37:11.419Z"
   },
   {
    "duration": 16,
    "start_time": "2022-11-18T18:37:12.070Z"
   },
   {
    "duration": 8,
    "start_time": "2022-11-18T18:37:16.342Z"
   },
   {
    "duration": 12,
    "start_time": "2022-11-18T18:37:18.472Z"
   },
   {
    "duration": 7,
    "start_time": "2022-11-18T18:37:22.589Z"
   },
   {
    "duration": 12,
    "start_time": "2022-11-18T18:37:24.731Z"
   },
   {
    "duration": 4,
    "start_time": "2022-11-18T18:37:28.450Z"
   },
   {
    "duration": 16,
    "start_time": "2022-11-18T18:37:30.311Z"
   },
   {
    "duration": 5,
    "start_time": "2022-11-18T18:37:32.160Z"
   },
   {
    "duration": 10,
    "start_time": "2022-11-18T18:37:37.280Z"
   },
   {
    "duration": 1526,
    "start_time": "2022-11-18T18:37:38.681Z"
   },
   {
    "duration": 809,
    "start_time": "2022-11-18T18:37:47.200Z"
   },
   {
    "duration": 9,
    "start_time": "2022-11-18T18:37:58.970Z"
   },
   {
    "duration": 10,
    "start_time": "2022-11-18T18:38:02.631Z"
   },
   {
    "duration": 26,
    "start_time": "2022-11-18T18:38:06.729Z"
   },
   {
    "duration": 9,
    "start_time": "2022-11-18T18:38:10.950Z"
   },
   {
    "duration": 124,
    "start_time": "2022-11-18T18:38:14.350Z"
   },
   {
    "duration": 3,
    "start_time": "2022-11-18T18:38:18.480Z"
   },
   {
    "duration": 19798,
    "start_time": "2022-11-18T18:38:21.770Z"
   },
   {
    "duration": 43,
    "start_time": "2022-11-18T18:38:46.705Z"
   },
   {
    "duration": 4,
    "start_time": "2022-11-18T18:38:51.570Z"
   },
   {
    "duration": 74019,
    "start_time": "2022-11-18T18:38:54.870Z"
   },
   {
    "duration": 835,
    "start_time": "2022-11-18T18:40:27.720Z"
   },
   {
    "duration": 86,
    "start_time": "2022-11-18T18:40:33.429Z"
   },
   {
    "duration": 810,
    "start_time": "2022-11-18T18:40:51.210Z"
   },
   {
    "duration": 8,
    "start_time": "2022-11-18T18:42:05.601Z"
   },
   {
    "duration": 9665,
    "start_time": "2022-11-18T18:42:14.670Z"
   },
   {
    "duration": 3761,
    "start_time": "2022-11-18T18:43:47.682Z"
   },
   {
    "duration": 3,
    "start_time": "2022-11-18T18:46:50.564Z"
   },
   {
    "duration": 125,
    "start_time": "2022-11-18T18:46:54.127Z"
   },
   {
    "duration": 4,
    "start_time": "2022-11-18T18:47:36.092Z"
   },
   {
    "duration": 11,
    "start_time": "2022-11-18T18:47:50.792Z"
   },
   {
    "duration": 12502,
    "start_time": "2022-11-18T18:49:40.628Z"
   },
   {
    "duration": 3,
    "start_time": "2022-11-18T18:51:42.832Z"
   },
   {
    "duration": 67,
    "start_time": "2022-11-18T18:52:55.262Z"
   },
   {
    "duration": 3,
    "start_time": "2022-11-18T18:53:13.662Z"
   },
   {
    "duration": 10,
    "start_time": "2022-11-18T18:53:42.392Z"
   },
   {
    "duration": 4,
    "start_time": "2022-11-18T18:53:47.008Z"
   },
   {
    "duration": 12,
    "start_time": "2022-11-18T18:53:50.134Z"
   },
   {
    "duration": 4026,
    "start_time": "2022-11-18T18:54:04.650Z"
   },
   {
    "duration": 1091,
    "start_time": "2022-11-18T18:55:23.392Z"
   },
   {
    "duration": 3,
    "start_time": "2022-11-18T18:55:33.352Z"
   },
   {
    "duration": 44,
    "start_time": "2022-11-18T18:55:35.105Z"
   },
   {
    "duration": 14062,
    "start_time": "2022-11-18T18:55:35.964Z"
   },
   {
    "duration": 3,
    "start_time": "2022-11-18T19:00:19.473Z"
   },
   {
    "duration": 112586,
    "start_time": "2022-11-18T19:00:24.336Z"
   },
   {
    "duration": 1197,
    "start_time": "2022-11-18T19:06:27.934Z"
   },
   {
    "duration": 1206,
    "start_time": "2022-11-18T19:07:16.258Z"
   },
   {
    "duration": 14,
    "start_time": "2022-11-18T19:10:12.180Z"
   },
   {
    "duration": 5,
    "start_time": "2022-11-18T19:15:25.444Z"
   },
   {
    "duration": 50,
    "start_time": "2022-11-18T19:15:30.344Z"
   },
   {
    "duration": 4,
    "start_time": "2022-11-18T19:15:32.125Z"
   },
   {
    "duration": 40,
    "start_time": "2022-11-18T19:15:33.275Z"
   },
   {
    "duration": 13,
    "start_time": "2022-11-18T19:15:38.145Z"
   },
   {
    "duration": 6,
    "start_time": "2022-11-18T19:15:44.546Z"
   },
   {
    "duration": 12,
    "start_time": "2022-11-18T19:15:46.174Z"
   },
   {
    "duration": 7,
    "start_time": "2022-11-18T19:15:50.504Z"
   },
   {
    "duration": 10,
    "start_time": "2022-11-18T19:15:56.664Z"
   },
   {
    "duration": 4,
    "start_time": "2022-11-18T19:15:59.045Z"
   },
   {
    "duration": 4,
    "start_time": "2022-11-18T19:16:00.695Z"
   },
   {
    "duration": 5,
    "start_time": "2022-11-18T19:16:08.764Z"
   },
   {
    "duration": 11,
    "start_time": "2022-11-18T19:16:11.033Z"
   },
   {
    "duration": 1525,
    "start_time": "2022-11-18T19:16:15.325Z"
   },
   {
    "duration": 740,
    "start_time": "2022-11-18T19:16:24.225Z"
   },
   {
    "duration": 10,
    "start_time": "2022-11-18T19:16:35.695Z"
   },
   {
    "duration": 11,
    "start_time": "2022-11-18T19:16:39.606Z"
   },
   {
    "duration": 45,
    "start_time": "2022-11-18T19:16:45.604Z"
   },
   {
    "duration": 11,
    "start_time": "2022-11-18T19:16:53.906Z"
   },
   {
    "duration": 114,
    "start_time": "2022-11-18T19:16:57.134Z"
   },
   {
    "duration": 3,
    "start_time": "2022-11-18T19:17:02.045Z"
   },
   {
    "duration": 18461,
    "start_time": "2022-11-18T19:17:06.436Z"
   },
   {
    "duration": 29,
    "start_time": "2022-11-18T19:17:50.726Z"
   },
   {
    "duration": 4,
    "start_time": "2022-11-18T19:17:56.316Z"
   },
   {
    "duration": 68663,
    "start_time": "2022-11-18T19:18:00.916Z"
   },
   {
    "duration": 824,
    "start_time": "2022-11-18T19:19:13.435Z"
   },
   {
    "duration": 26,
    "start_time": "2022-11-18T19:19:17.855Z"
   },
   {
    "duration": 797,
    "start_time": "2022-11-18T19:19:25.220Z"
   },
   {
    "duration": 8,
    "start_time": "2022-11-18T19:19:44.726Z"
   },
   {
    "duration": 8901,
    "start_time": "2022-11-18T19:19:50.816Z"
   },
   {
    "duration": 3414,
    "start_time": "2022-11-18T19:19:59.724Z"
   },
   {
    "duration": 4,
    "start_time": "2022-11-18T19:20:29.504Z"
   },
   {
    "duration": 12,
    "start_time": "2022-11-18T19:20:33.255Z"
   },
   {
    "duration": 11895,
    "start_time": "2022-11-18T19:20:43.826Z"
   },
   {
    "duration": 2,
    "start_time": "2022-11-18T19:21:05.516Z"
   },
   {
    "duration": 3,
    "start_time": "2022-11-18T19:21:10.816Z"
   },
   {
    "duration": 3,
    "start_time": "2022-11-18T19:21:13.278Z"
   },
   {
    "duration": 13,
    "start_time": "2022-11-18T19:21:17.051Z"
   },
   {
    "duration": 12065,
    "start_time": "2022-11-18T19:21:20.762Z"
   },
   {
    "duration": 2,
    "start_time": "2022-11-18T19:21:44.976Z"
   },
   {
    "duration": 4,
    "start_time": "2022-11-18T19:21:45.768Z"
   },
   {
    "duration": 11,
    "start_time": "2022-11-18T19:21:48.485Z"
   },
   {
    "duration": 3883,
    "start_time": "2022-11-18T19:21:52.085Z"
   },
   {
    "duration": 1033,
    "start_time": "2022-11-18T19:22:02.213Z"
   },
   {
    "duration": 3,
    "start_time": "2022-11-18T19:22:25.966Z"
   },
   {
    "duration": 33,
    "start_time": "2022-11-18T19:22:26.976Z"
   },
   {
    "duration": 13638,
    "start_time": "2022-11-18T19:22:28.086Z"
   },
   {
    "duration": 3,
    "start_time": "2022-11-18T19:23:05.803Z"
   },
   {
    "duration": 109141,
    "start_time": "2022-11-18T19:23:09.195Z"
   },
   {
    "duration": 2,
    "start_time": "2022-11-18T19:25:08.128Z"
   },
   {
    "duration": 3,
    "start_time": "2022-11-18T19:25:08.728Z"
   },
   {
    "duration": 1291,
    "start_time": "2022-11-18T19:25:15.836Z"
   },
   {
    "duration": 24,
    "start_time": "2022-11-18T19:25:22.819Z"
   },
   {
    "duration": 13,
    "start_time": "2022-11-18T19:25:35.276Z"
   },
   {
    "duration": 6871,
    "start_time": "2022-11-19T09:14:52.497Z"
   },
   {
    "duration": 1153,
    "start_time": "2022-11-19T09:14:59.370Z"
   },
   {
    "duration": 63,
    "start_time": "2022-11-19T09:15:00.525Z"
   },
   {
    "duration": 12,
    "start_time": "2022-11-19T09:15:00.590Z"
   },
   {
    "duration": 66,
    "start_time": "2022-11-19T09:15:00.606Z"
   },
   {
    "duration": 11,
    "start_time": "2022-11-19T09:15:00.674Z"
   },
   {
    "duration": 12,
    "start_time": "2022-11-19T09:15:00.687Z"
   },
   {
    "duration": 25,
    "start_time": "2022-11-19T09:15:00.701Z"
   },
   {
    "duration": 16,
    "start_time": "2022-11-19T09:15:00.728Z"
   },
   {
    "duration": 25,
    "start_time": "2022-11-19T09:15:00.746Z"
   },
   {
    "duration": 21,
    "start_time": "2022-11-19T09:15:00.772Z"
   },
   {
    "duration": 31,
    "start_time": "2022-11-19T09:15:00.794Z"
   },
   {
    "duration": 40,
    "start_time": "2022-11-19T09:15:00.826Z"
   },
   {
    "duration": 41,
    "start_time": "2022-11-19T09:15:00.868Z"
   },
   {
    "duration": 1445,
    "start_time": "2022-11-19T09:15:00.910Z"
   },
   {
    "duration": 732,
    "start_time": "2022-11-19T09:15:02.356Z"
   },
   {
    "duration": 9,
    "start_time": "2022-11-19T09:15:03.090Z"
   },
   {
    "duration": 39,
    "start_time": "2022-11-19T09:15:03.101Z"
   },
   {
    "duration": 27,
    "start_time": "2022-11-19T09:15:03.141Z"
   },
   {
    "duration": 9,
    "start_time": "2022-11-19T09:15:03.170Z"
   },
   {
    "duration": 120,
    "start_time": "2022-11-19T09:15:03.180Z"
   },
   {
    "duration": 3,
    "start_time": "2022-11-19T09:15:03.301Z"
   },
   {
    "duration": 16662,
    "start_time": "2022-11-19T09:15:03.306Z"
   },
   {
    "duration": 26,
    "start_time": "2022-11-19T09:15:19.970Z"
   },
   {
    "duration": 3,
    "start_time": "2022-11-19T09:15:19.997Z"
   },
   {
    "duration": 63031,
    "start_time": "2022-11-19T09:15:20.001Z"
   },
   {
    "duration": 713,
    "start_time": "2022-11-19T09:16:23.033Z"
   },
   {
    "duration": 65,
    "start_time": "2022-11-19T09:16:23.749Z"
   },
   {
    "duration": 800,
    "start_time": "2022-11-19T09:16:23.816Z"
   },
   {
    "duration": 94,
    "start_time": "2022-11-19T09:16:24.619Z"
   },
   {
    "duration": 7807,
    "start_time": "2022-11-19T09:16:24.715Z"
   },
   {
    "duration": 3457,
    "start_time": "2022-11-19T09:16:32.524Z"
   },
   {
    "duration": 2,
    "start_time": "2022-11-19T09:16:35.982Z"
   },
   {
    "duration": 6,
    "start_time": "2022-11-19T09:16:35.986Z"
   },
   {
    "duration": 27,
    "start_time": "2022-11-19T09:16:35.993Z"
   },
   {
    "duration": 10792,
    "start_time": "2022-11-19T09:16:36.022Z"
   },
   {
    "duration": 4,
    "start_time": "2022-11-19T09:16:46.820Z"
   },
   {
    "duration": 8,
    "start_time": "2022-11-19T09:16:46.913Z"
   },
   {
    "duration": 18,
    "start_time": "2022-11-19T09:16:46.923Z"
   },
   {
    "duration": 3709,
    "start_time": "2022-11-19T09:16:46.943Z"
   },
   {
    "duration": 910,
    "start_time": "2022-11-19T09:16:50.654Z"
   },
   {
    "duration": 2,
    "start_time": "2022-11-19T09:16:51.565Z"
   },
   {
    "duration": 31,
    "start_time": "2022-11-19T09:16:51.569Z"
   },
   {
    "duration": 12324,
    "start_time": "2022-11-19T09:16:51.601Z"
   },
   {
    "duration": 4,
    "start_time": "2022-11-19T09:17:04.013Z"
   },
   {
    "duration": 96477,
    "start_time": "2022-11-19T09:17:04.019Z"
   },
   {
    "duration": 2,
    "start_time": "2022-11-19T09:18:40.498Z"
   },
   {
    "duration": 12,
    "start_time": "2022-11-19T09:18:40.501Z"
   },
   {
    "duration": 1133,
    "start_time": "2022-11-19T09:18:40.514Z"
   },
   {
    "duration": 19,
    "start_time": "2022-11-19T09:18:41.649Z"
   },
   {
    "duration": 13,
    "start_time": "2022-11-19T09:18:41.670Z"
   },
   {
    "duration": 55,
    "start_time": "2022-11-19T16:51:55.214Z"
   },
   {
    "duration": 7394,
    "start_time": "2022-11-19T16:52:11.373Z"
   },
   {
    "duration": 1398,
    "start_time": "2022-11-19T16:52:32.036Z"
   },
   {
    "duration": 94,
    "start_time": "2022-11-19T16:52:37.532Z"
   },
   {
    "duration": 4,
    "start_time": "2022-11-19T16:52:38.640Z"
   },
   {
    "duration": 59,
    "start_time": "2022-11-19T16:52:39.541Z"
   },
   {
    "duration": 12,
    "start_time": "2022-11-19T16:52:42.791Z"
   },
   {
    "duration": 9,
    "start_time": "2022-11-19T16:52:46.841Z"
   },
   {
    "duration": 13,
    "start_time": "2022-11-19T16:52:49.781Z"
   },
   {
    "duration": 8,
    "start_time": "2022-11-19T16:52:50.699Z"
   },
   {
    "duration": 11,
    "start_time": "2022-11-19T16:52:54.575Z"
   },
   {
    "duration": 4,
    "start_time": "2022-11-19T16:52:55.951Z"
   },
   {
    "duration": 5,
    "start_time": "2022-11-19T16:52:59.411Z"
   },
   {
    "duration": 5,
    "start_time": "2022-11-19T16:53:03.251Z"
   },
   {
    "duration": 15,
    "start_time": "2022-11-19T16:53:06.171Z"
   },
   {
    "duration": 1579,
    "start_time": "2022-11-19T16:53:06.810Z"
   },
   {
    "duration": 957,
    "start_time": "2022-11-19T16:53:15.759Z"
   },
   {
    "duration": 10,
    "start_time": "2022-11-19T16:53:27.331Z"
   },
   {
    "duration": 11,
    "start_time": "2022-11-19T16:53:31.271Z"
   },
   {
    "duration": 27,
    "start_time": "2022-11-19T16:53:35.371Z"
   },
   {
    "duration": 10,
    "start_time": "2022-11-19T16:53:40.370Z"
   },
   {
    "duration": 122,
    "start_time": "2022-11-19T16:53:41.101Z"
   },
   {
    "duration": 3,
    "start_time": "2022-11-19T16:53:50.592Z"
   },
   {
    "duration": 18984,
    "start_time": "2022-11-19T16:53:51.971Z"
   },
   {
    "duration": 30,
    "start_time": "2022-11-19T16:54:13.912Z"
   },
   {
    "duration": 3,
    "start_time": "2022-11-19T16:54:22.767Z"
   },
   {
    "duration": 71083,
    "start_time": "2022-11-19T16:54:24.279Z"
   },
   {
    "duration": 788,
    "start_time": "2022-11-19T16:55:43.411Z"
   },
   {
    "duration": 29,
    "start_time": "2022-11-19T16:55:49.653Z"
   },
   {
    "duration": 923,
    "start_time": "2022-11-19T16:56:01.691Z"
   },
   {
    "duration": 937,
    "start_time": "2022-11-19T16:56:26.477Z"
   },
   {
    "duration": 7,
    "start_time": "2022-11-19T16:57:17.191Z"
   },
   {
    "duration": 9157,
    "start_time": "2022-11-19T16:57:24.761Z"
   },
   {
    "duration": 2,
    "start_time": "2022-11-19T16:57:52.876Z"
   },
   {
    "duration": 2,
    "start_time": "2022-11-19T16:57:53.482Z"
   },
   {
    "duration": 3,
    "start_time": "2022-11-19T17:00:09.579Z"
   },
   {
    "duration": 4,
    "start_time": "2022-11-19T17:00:10.291Z"
   },
   {
    "duration": 12,
    "start_time": "2022-11-19T17:00:13.236Z"
   },
   {
    "duration": 12326,
    "start_time": "2022-11-19T17:00:55.791Z"
   },
   {
    "duration": 3,
    "start_time": "2022-11-19T17:01:23.611Z"
   },
   {
    "duration": 4,
    "start_time": "2022-11-19T17:01:24.452Z"
   },
   {
    "duration": 12,
    "start_time": "2022-11-19T17:01:26.652Z"
   },
   {
    "duration": 4336,
    "start_time": "2022-11-19T17:01:44.717Z"
   },
   {
    "duration": 1070,
    "start_time": "2022-11-19T17:01:56.039Z"
   },
   {
    "duration": 5,
    "start_time": "2022-11-19T17:02:04.782Z"
   },
   {
    "duration": 33,
    "start_time": "2022-11-19T17:02:05.909Z"
   },
   {
    "duration": 14309,
    "start_time": "2022-11-19T17:02:06.613Z"
   },
   {
    "duration": 3,
    "start_time": "2022-11-19T17:02:28.902Z"
   },
   {
    "duration": 111510,
    "start_time": "2022-11-19T17:02:30.491Z"
   },
   {
    "duration": 3,
    "start_time": "2022-11-19T17:04:29.701Z"
   },
   {
    "duration": 3,
    "start_time": "2022-11-19T17:04:30.135Z"
   },
   {
    "duration": 1269,
    "start_time": "2022-11-19T17:04:37.912Z"
   },
   {
    "duration": 20,
    "start_time": "2022-11-19T17:04:51.703Z"
   },
   {
    "duration": 19,
    "start_time": "2022-11-19T17:05:04.593Z"
   },
   {
    "duration": 8379,
    "start_time": "2022-11-20T15:21:36.351Z"
   },
   {
    "duration": 1430,
    "start_time": "2022-11-20T15:21:44.732Z"
   },
   {
    "duration": 103,
    "start_time": "2022-11-20T15:21:46.164Z"
   },
   {
    "duration": 4,
    "start_time": "2022-11-20T15:21:46.270Z"
   },
   {
    "duration": 53,
    "start_time": "2022-11-20T15:21:46.276Z"
   },
   {
    "duration": 15,
    "start_time": "2022-11-20T15:21:46.331Z"
   },
   {
    "duration": 6,
    "start_time": "2022-11-20T15:21:46.348Z"
   },
   {
    "duration": 21,
    "start_time": "2022-11-20T15:21:46.355Z"
   },
   {
    "duration": 21,
    "start_time": "2022-11-20T15:21:46.379Z"
   },
   {
    "duration": 27,
    "start_time": "2022-11-20T15:21:46.413Z"
   },
   {
    "duration": 6,
    "start_time": "2022-11-20T15:21:46.442Z"
   },
   {
    "duration": 38,
    "start_time": "2022-11-20T15:21:46.450Z"
   },
   {
    "duration": 15,
    "start_time": "2022-11-20T15:21:46.492Z"
   },
   {
    "duration": 32,
    "start_time": "2022-11-20T15:21:46.509Z"
   },
   {
    "duration": 1718,
    "start_time": "2022-11-20T15:21:46.544Z"
   },
   {
    "duration": 908,
    "start_time": "2022-11-20T15:21:48.264Z"
   },
   {
    "duration": 14,
    "start_time": "2022-11-20T15:21:49.175Z"
   },
   {
    "duration": 25,
    "start_time": "2022-11-20T15:21:49.192Z"
   },
   {
    "duration": 66,
    "start_time": "2022-11-20T15:21:49.220Z"
   },
   {
    "duration": 15,
    "start_time": "2022-11-20T15:21:49.288Z"
   },
   {
    "duration": 138,
    "start_time": "2022-11-20T15:21:49.305Z"
   },
   {
    "duration": 4,
    "start_time": "2022-11-20T15:21:49.446Z"
   },
   {
    "duration": 20634,
    "start_time": "2022-11-20T15:21:49.451Z"
   },
   {
    "duration": 44,
    "start_time": "2022-11-20T15:22:10.086Z"
   },
   {
    "duration": 3,
    "start_time": "2022-11-20T15:22:10.132Z"
   },
   {
    "duration": 72448,
    "start_time": "2022-11-20T15:22:10.137Z"
   },
   {
    "duration": 789,
    "start_time": "2022-11-20T15:23:22.586Z"
   },
   {
    "duration": 37,
    "start_time": "2022-11-20T15:23:23.380Z"
   },
   {
    "duration": 996,
    "start_time": "2022-11-20T15:23:23.420Z"
   },
   {
    "duration": 99,
    "start_time": "2022-11-20T15:23:24.418Z"
   },
   {
    "duration": 9293,
    "start_time": "2022-11-20T15:23:24.519Z"
   },
   {
    "duration": 4,
    "start_time": "2022-11-20T15:23:33.814Z"
   },
   {
    "duration": 98,
    "start_time": "2022-11-20T15:23:33.820Z"
   },
   {
    "duration": 5,
    "start_time": "2022-11-20T15:23:33.920Z"
   },
   {
    "duration": 8,
    "start_time": "2022-11-20T15:23:33.927Z"
   },
   {
    "duration": 12,
    "start_time": "2022-11-20T15:23:33.937Z"
   },
   {
    "duration": 12267,
    "start_time": "2022-11-20T15:23:33.951Z"
   },
   {
    "duration": 91,
    "start_time": "2022-11-20T15:23:46.220Z"
   },
   {
    "duration": 97,
    "start_time": "2022-11-20T15:23:46.317Z"
   },
   {
    "duration": 18,
    "start_time": "2022-11-20T15:23:46.415Z"
   },
   {
    "duration": 3979,
    "start_time": "2022-11-20T15:23:46.435Z"
   },
   {
    "duration": 1047,
    "start_time": "2022-11-20T15:23:50.416Z"
   },
   {
    "duration": 3,
    "start_time": "2022-11-20T15:23:51.465Z"
   },
   {
    "duration": 42,
    "start_time": "2022-11-20T15:23:51.470Z"
   },
   {
    "duration": 14599,
    "start_time": "2022-11-20T15:23:51.514Z"
   },
   {
    "duration": 4,
    "start_time": "2022-11-20T15:24:06.115Z"
   },
   {
    "duration": 111251,
    "start_time": "2022-11-20T15:24:06.122Z"
   },
   {
    "duration": 3,
    "start_time": "2022-11-20T15:25:57.375Z"
   },
   {
    "duration": 20,
    "start_time": "2022-11-20T15:25:57.379Z"
   },
   {
    "duration": 1241,
    "start_time": "2022-11-20T15:25:57.401Z"
   },
   {
    "duration": 21,
    "start_time": "2022-11-20T15:25:58.644Z"
   },
   {
    "duration": 18,
    "start_time": "2022-11-20T15:25:58.667Z"
   }
  ],
  "kernelspec": {
   "display_name": "Python 3 (ipykernel)",
   "language": "python",
   "name": "python3"
  },
  "language_info": {
   "codemirror_mode": {
    "name": "ipython",
    "version": 3
   },
   "file_extension": ".py",
   "mimetype": "text/x-python",
   "name": "python",
   "nbconvert_exporter": "python",
   "pygments_lexer": "ipython3",
   "version": "3.9.12"
  },
  "toc": {
   "base_numbering": 1,
   "nav_menu": {},
   "number_sections": true,
   "sideBar": true,
   "skip_h1_title": true,
   "title_cell": "Содержание",
   "title_sidebar": "Contents",
   "toc_cell": true,
   "toc_position": {
    "height": "calc(100% - 180px)",
    "left": "10px",
    "top": "150px",
    "width": "205.797px"
   },
   "toc_section_display": true,
   "toc_window_display": true
  }
 },
 "nbformat": 4,
 "nbformat_minor": 2
}
